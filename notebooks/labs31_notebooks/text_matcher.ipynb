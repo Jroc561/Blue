{
 "cells": [
  {
   "cell_type": "code",
   "execution_count": 5,
   "metadata": {},
   "outputs": [],
   "source": [
    "# install dependencies  \n",
    "from sklearn.feature_extraction.text import TfidfVectorizer\n",
    "from sklearn.neighbors import NearestNeighbors\n",
    "import spacy\n",
    "import en_core_web_sm\n",
    "import pandas as pd"
   ]
  },
  {
   "cell_type": "code",
   "execution_count": 24,
   "metadata": {},
   "outputs": [],
   "source": [
    "ranked_reports = {\n",
    "    \"Rank 1 - Police Presence\": [\n",
    "        \"policeman, policewoman, law enforcement\",\n",
    "        \"police officer, cop, five-o, fuzz, DHS\",\n",
    "    ],\n",
    "    \"Rank 2 - Empty-hand\": [\n",
    "        \"policeman, policewoman, law enforcement\",\n",
    "        \"police officer, cop, five-o, fuzz, DHS\",\n",
    "        \"pushed and shoved with shields\",\n",
    "        \"grabs, holds and joint locks\",\n",
    "        \"punch and kick\",\n",
    "    ],\n",
    "    \"Rank 3 - Blunt Force\": [\n",
    "        \"policeman, policewoman, law enforcement\",\n",
    "        \"police officer, cop, five-o, fuzz, DHS\",\n",
    "        \"rubber bullets\",\n",
    "        \"riot rounds\",\n",
    "        \"batons\",\n",
    "    ],\n",
    "    \"Rank 4 - Chemical & Electric\": [\n",
    "        \"policeman, policewoman, law enforcement\",\n",
    "        \"police officer, cop, five-o, fuzz, DHS\",\n",
    "        \"tear gas\",\n",
    "        \"pepper spray\",\n",
    "        \"flashbangs, stun grenade\",\n",
    "        \"chemical sprays\",\n",
    "        \"Conducted energy devices, CED or tazor\",\n",
    "    ],\n",
    "    \"Rank 5 - Lethal Force\": [\n",
    "        \"policeman, policewoman, law enforcement\",\n",
    "        \"police officer, cop, five-o, fuzz, DHS\",\n",
    "        \"shoot and kill\",\n",
    "        \"open fire\",\n",
    "        \"deadly force\",\n",
    "        \"fatal\",\n",
    "        \"dies\",\n",
    "    ],\n",
    "}"
   ]
  },
  {
   "cell_type": "code",
   "execution_count": 25,
   "metadata": {},
   "outputs": [],
   "source": [
    "ranked_reports1 = {\n",
    "    \"Rank 1 - Police Presence\": [\n",
    "        \"policeman\", \"policewoman\", \"law enforcement\",\n",
    "        \"police officer, cop, five-o, fuzz, DHS\", \n",
    "        \"protester\", \"FPS\", \"officer\",\n",
    "        \"Federal Protective Services\",\n",
    "    ],\n",
    "    \"Rank 2 - Empty-hand\": [\n",
    "        \"policeman\", \"policewoman\", \"law enforcement\",\n",
    "        \"police officer\", \"cop\", \"five-o\", \"fuzz, DHS\",\n",
    "        \"pushed and shoved with shields\", \"officer\",\n",
    "        \"grabs, holds and joint locks\",\n",
    "        \"punch and kick\", \"thrown to the ground\", \"hit\",\n",
    "        \"charge a protester\", \"tackle to the ground\", \n",
    "        \"kneel on\", \"arrest\", \"protester\",\n",
    "        \"FPS\", \"Federal Protective Services\", \"zip-ties\",\n",
    "        \"police chase and attack\", \"kicking him\", \n",
    "        \"threw him to the ground\", \"handcuff him\", \n",
    "        \"kneeling on a protester\", \"pinning down\", \n",
    "        \"tackle\", \"shoved to the ground\", \"violent\",\n",
    "        \"officer shove\"\n",
    "\n",
    "    ],\n",
    "    \"Rank 3 - Blunt Force\": [\n",
    "        \"policeman\", \"policewoman\", \"law enforcement\",\n",
    "        \"police officer\", \"cop\", \"five-o\", \"fuzz\", \"DHS\",\n",
    "        \"rubber bullets\", \"officer\",\n",
    "        \"riot rounds\",\n",
    "        \"batons\", \"blood\", \"hit\", \"arrest\",\n",
    "        \"protester\", \"FPS\", \n",
    "        \"Federal Protective Services\", \n",
    "        \"strike with baton\", \"violent\",\n",
    "\n",
    "\n",
    "    ],\n",
    "    \"Rank 4 - Chemical & Electric\": [\n",
    "        \"policeman\", \"policewoman\", \"law enforcement\",\n",
    "        \"police officer\", \"cop\", \"five-o\", \"fuzz\", \"DHS\",\n",
    "        \"tear gas\", \"officer\",\n",
    "        \"pepper spray\",\n",
    "        \"flashbangs\", \"stun grenade\",\n",
    "        \"chemical sprays\",\n",
    "        \"Conducted energy devices, CED or tazor\",\n",
    "        \"blood\", \"arrest\", \"protester\", \"FPS\", \n",
    "        \"Federal Protective Services\", \"pepper balls\",\n",
    "        \"using munitions on prosters\", \"struck by a round\",\n",
    "        \"fire pepper balls and tear gas\", \n",
    "        \"struck in chest by projectile\", \"violent\", \n",
    "        \"munition\", \"firing a riot gun\", \"paintball gun\",\n",
    "        \"shots are fired\", \"fire explosives\", \n",
    "        \"fire impact munitions\",\n",
    "\n",
    "\n",
    "    ],\n",
    "    \"Rank 5 - Lethal Force\": [\n",
    "        \"policeman\", \"policewoman\", \"law enforcement\",\n",
    "        \"police officer\", \"cop\", \"five-o\", \"fuzz\", \"DHS\",\n",
    "        \"shoot and kill\", \"protester\",\n",
    "        \"open fire\", \"FPS\", \"officer\",\n",
    "        \"Federal Protective Services\",\n",
    "        \"deadly force\", \"fatal\",\n",
    "        \"dies\", 'kill', \"arrest\", \"violent\", \n",
    "        \"shot and killed\",\n",
    "\n",
    "    ],\n",
    "}"
   ]
  },
  {
   "cell_type": "code",
   "execution_count": 26,
   "metadata": {},
   "outputs": [],
   "source": [
    "class TextMatcher:\n",
    "    \"\"\" Generic NLP Text Matching Model \"\"\"\n",
    "\n",
    "    class Tokenizer:\n",
    "        \"\"\" Standard SpaCy Tokenizer \"\"\"\n",
    "        nlp = spacy.load(\"en_core_web_sm\")\n",
    "\n",
    "        def __call__(self, text: str) -> list:\n",
    "            return [\n",
    "                token.lemma_.lower() for token in self.nlp(text)\n",
    "                if not token.is_stop and not token.is_punct\n",
    "            ]\n",
    "\n",
    "    def __init__(self, train_data: dict, ngram_range=(1, 3), max_features=8000):\n",
    "        \"\"\" Model training on live data at init \"\"\"\n",
    "        self.lookup = {k: ' '.join(v) for k, v in train_data.items()}\n",
    "        self.name_index = list(self.lookup.keys())\n",
    "        self.tfidf = TfidfVectorizer(\n",
    "            ngram_range=ngram_range,\n",
    "            tokenizer=self.Tokenizer(),\n",
    "            max_features=max_features,\n",
    "        )\n",
    "        self.knn = NearestNeighbors(\n",
    "            n_neighbors=1,\n",
    "            leaf_size =15,\n",
    "            metric='cosine',\n",
    "            algorithm='brute',\n",
    "            n_jobs=-1,\n",
    "        ).fit(self.tfidf.fit_transform(self.lookup.values()).todense())\n",
    "        self.baseline, _ = self._worker('')\n",
    "\n",
    "    def _worker(self, user_input: str):\n",
    "        \"\"\" Prediction worker method - internal only \"\"\"\n",
    "        vec = self.tfidf.transform([user_input]).todense()\n",
    "        return (itm[0][0] for itm in self.knn.kneighbors(vec))\n",
    "\n",
    "    def __call__(self, user_input: str) -> str:\n",
    "        \"\"\" Callable object for making predictions \"\"\"\n",
    "        dist, idx = self._worker(user_input)\n",
    "        if dist != self.baseline:\n",
    "            return self.name_index[int(idx)]\n",
    "        else:\n",
    "            return 'Rank 0 - No Police Presence'"
   ]
  },
  {
   "cell_type": "code",
   "execution_count": 27,
   "metadata": {},
   "outputs": [],
   "source": [
    "# model for ranked reports and ranked reports1\n",
    "textmatcher = TextMatcher(ranked_reports)\n",
    "textmatcher1 = TextMatcher(ranked_reports1)"
   ]
  },
  {
   "cell_type": "code",
   "execution_count": 28,
   "metadata": {},
   "outputs": [],
   "source": [
    "# sample text to run through model\n",
    "text = \"\"\"\n",
    "During a protest at which both pro-police and Black Lives Matter protesters were present near West 7th and Lincoln, members of the two protests appear to exchange words in an intersection. Police charge a protester, a 14 year old girl according to the poster, tackle her to the ground, kneel on her and arrest her.\n",
    "\"\"\""
   ]
  },
  {
   "cell_type": "code",
   "execution_count": 29,
   "metadata": {},
   "outputs": [
    {
     "output_type": "execute_result",
     "data": {
      "text/plain": [
       "'Rank 1 - Police Presence'"
      ]
     },
     "metadata": {},
     "execution_count": 29
    }
   ],
   "source": [
    "# sample text using text matching through ranked reports\n",
    "textmatcher(text)"
   ]
  },
  {
   "cell_type": "code",
   "execution_count": 30,
   "metadata": {},
   "outputs": [
    {
     "output_type": "execute_result",
     "data": {
      "text/plain": [
       "'Rank 2 - Empty-hand'"
      ]
     },
     "metadata": {},
     "execution_count": 30
    }
   ],
   "source": [
    "# sample text using text matching through ranked reports 1\n",
    "textmatcher1(text)"
   ]
  },
  {
   "cell_type": "code",
   "execution_count": 31,
   "metadata": {},
   "outputs": [
    {
     "output_type": "execute_result",
     "data": {
      "text/plain": [
       "   id                       dates                    added_on  \\\n",
       "0   1  2020-05-30 00:00:00.000000  2021-02-26 20:45:37.445121   \n",
       "1   2  2020-05-30 00:00:00.000000  2021-02-26 20:45:37.446934   \n",
       "2   3  2020-05-30 00:00:00.000000  2021-02-26 20:45:37.447560   \n",
       "3   4  2020-05-31 00:00:00.000000  2021-02-26 20:45:37.448138   \n",
       "4   5  2020-06-01 00:00:00.000000  2021-02-26 20:45:37.448824   \n",
       "\n",
       "                                                                                                                                                                                                                                                                                                                                                                                       links  \\\n",
       "0                                                                                                                                                                                                                                                      ['https://www.youtube.com/watch?v=dPTr54DdTdY', 'https://www.reddit.com/r/Eugene/comments/gtbsvq/eugene_police_teargasses_downtown/']   \n",
       "1                                                                                                                                                                                                                                                                      ['https://twitter.com/IwriteOK/status/1266907719635632129', 'https://twitter.com/MrOlmos/status/1266916861267996673']   \n",
       "2                                                                                                                                                                                                                                                                                                                          ['https://www.youtube.com/watch?v=01oWE24O9Zw&feature=emb_title']   \n",
       "3  ['https://www.youtube.com/watch?v=R7fqWI41vQY', 'https://www.reddit.com/r/Eugene/comments/guxme1/footage_of_epd_shooting_eugene_weekly_reporter/', 'https://twitter.com/hwhouston1/status/1267338971291373568', 'https://www.dailyemerald.com/news/police-fire-pellets-tear-gas-at-late-night-protesters-sunday-police-chief-responds/article_cd4a4450-a49a-11ea-a6fd-73b64efe150a.html']   \n",
       "4                                                                                                                                                                                                                                                      ['https://www.reddit.com/r/Eugene/comments/gurr9r/police_shoot_projectile_from_moving_vehicle_hit/', 'https://streamable.com/9h2tk3']   \n",
       "\n",
       "         case_id      city   state        lat        long  \\\n",
       "0    or-eugene-2    Eugene  Oregon  44.049913 -123.097391   \n",
       "1  or-portland-1  Portland  Oregon  45.515586 -122.676994   \n",
       "2  or-portland-2  Portland  Oregon  45.515468 -122.676571   \n",
       "3    or-eugene-3    Eugene  Oregon  44.044728 -123.079238   \n",
       "4    or-eugene-1    Eugene  Oregon   0.000000    0.000000   \n",
       "\n",
       "                                           title  \\\n",
       "0                 Peaceful protester tear gassed   \n",
       "1     Police violently break up peaceful protest   \n",
       "2                Officer pepper-sprays protester   \n",
       "3           Reporter shot with tear gas canister   \n",
       "4  Officer shoots projectile from moving vehicle   \n",
       "\n",
       "                                                                                                                                                                                                                                                                                                                                                                                                                                                                                                                                                                                                                                                                                description  \\\n",
       "0                                                                                                                                                                                                                                                                                                                                          Footage shows a small cluster of protesters chanting \"I can't breathe\" near Lincoln and Broadway. At 1:15 in the footage, without warning, police fire tear gas, causing most protesters flee. Some canisters can be seen thrown back towards police.\\r\\n\\r\\nPolice then proceed down the street. More tear gas is fired at 4:30 in the footage.   \n",
       "1                                                                                                                                                                                                                                                                                                                                                                                                                                                                                                                                                                                          The Police try to break up the peaceful protest by resorting to hitting individuals with batons.   \n",
       "2                                                                                                                                                                                                                                                                                                                                                                                                                                                                                                                                                                                                  An officer shoves and pepper-sprays a protester standing on the other side of a barrier.   \n",
       "3  Footage shows police giving curfew dispersal order to protesters. At one point, the filmer and his fellow journalist identify themselves as a reporter. One officer says, \"It doesn't matter.\" Several subsequent officers do accept their press credentials without issue. They continue to monitor the protest and are later joined by a reporter for the Eugene Weekly.\\r\\n\\r\\nFootage around 2 minutes shows the Eugene Weekly reporter struck at close range with a tear gas canister, that then falls to the ground and explodes.\\r\\n\\r\\nA tweet from the reporter and an article from the Daily Emerald claim the reporter was hit by both a tear gas canister and rubber bullets   \n",
       "4                                                                                                                                                                                                                                                                                                                                                                                                                                                                                                                 An officer shoots a projectile out of a moving vehicle, striking pedestrian near eyeball.\\r\\n\\r\\nThis incident took place at in Eugene, OR. Specific area not identified.   \n",
       "\n",
       "                                                                                       tags  \\\n",
       "0                                                  ['less-lethal', 'protester', 'tear-gas']   \n",
       "1                                                  ['baton', 'beat', 'protester', 'strike']   \n",
       "2                            ['less-lethal', 'pepper-spray', 'protester', 'shove', 'spray']   \n",
       "3  ['journalist', 'less-lethal', 'rubber-bullet', 'shoot', 'tear-gas', 'tear-gas-canister']   \n",
       "4                            ['less-lethal', 'projectile', 'protester', 'shoot', 'vehicle']   \n",
       "\n",
       "                     force_rank  \n",
       "0  Rank 4 - Chemical & Electric  \n",
       "1      Rank 1 - Police Presence  \n",
       "2  Rank 4 - Chemical & Electric  \n",
       "3  Rank 4 - Chemical & Electric  \n",
       "4         Rank 5 - Lethal Force  "
      ],
      "text/html": "<div>\n<style scoped>\n    .dataframe tbody tr th:only-of-type {\n        vertical-align: middle;\n    }\n\n    .dataframe tbody tr th {\n        vertical-align: top;\n    }\n\n    .dataframe thead th {\n        text-align: right;\n    }\n</style>\n<table border=\"1\" class=\"dataframe\">\n  <thead>\n    <tr style=\"text-align: right;\">\n      <th></th>\n      <th>id</th>\n      <th>dates</th>\n      <th>added_on</th>\n      <th>links</th>\n      <th>case_id</th>\n      <th>city</th>\n      <th>state</th>\n      <th>lat</th>\n      <th>long</th>\n      <th>title</th>\n      <th>description</th>\n      <th>tags</th>\n      <th>force_rank</th>\n    </tr>\n  </thead>\n  <tbody>\n    <tr>\n      <th>0</th>\n      <td>1</td>\n      <td>2020-05-30 00:00:00.000000</td>\n      <td>2021-02-26 20:45:37.445121</td>\n      <td>['https://www.youtube.com/watch?v=dPTr54DdTdY', 'https://www.reddit.com/r/Eugene/comments/gtbsvq/eugene_police_teargasses_downtown/']</td>\n      <td>or-eugene-2</td>\n      <td>Eugene</td>\n      <td>Oregon</td>\n      <td>44.049913</td>\n      <td>-123.097391</td>\n      <td>Peaceful protester tear gassed</td>\n      <td>Footage shows a small cluster of protesters chanting \"I can't breathe\" near Lincoln and Broadway. At 1:15 in the footage, without warning, police fire tear gas, causing most protesters flee. Some canisters can be seen thrown back towards police.\\r\\n\\r\\nPolice then proceed down the street. More tear gas is fired at 4:30 in the footage.</td>\n      <td>['less-lethal', 'protester', 'tear-gas']</td>\n      <td>Rank 4 - Chemical &amp; Electric</td>\n    </tr>\n    <tr>\n      <th>1</th>\n      <td>2</td>\n      <td>2020-05-30 00:00:00.000000</td>\n      <td>2021-02-26 20:45:37.446934</td>\n      <td>['https://twitter.com/IwriteOK/status/1266907719635632129', 'https://twitter.com/MrOlmos/status/1266916861267996673']</td>\n      <td>or-portland-1</td>\n      <td>Portland</td>\n      <td>Oregon</td>\n      <td>45.515586</td>\n      <td>-122.676994</td>\n      <td>Police violently break up peaceful protest</td>\n      <td>The Police try to break up the peaceful protest by resorting to hitting individuals with batons.</td>\n      <td>['baton', 'beat', 'protester', 'strike']</td>\n      <td>Rank 1 - Police Presence</td>\n    </tr>\n    <tr>\n      <th>2</th>\n      <td>3</td>\n      <td>2020-05-30 00:00:00.000000</td>\n      <td>2021-02-26 20:45:37.447560</td>\n      <td>['https://www.youtube.com/watch?v=01oWE24O9Zw&amp;feature=emb_title']</td>\n      <td>or-portland-2</td>\n      <td>Portland</td>\n      <td>Oregon</td>\n      <td>45.515468</td>\n      <td>-122.676571</td>\n      <td>Officer pepper-sprays protester</td>\n      <td>An officer shoves and pepper-sprays a protester standing on the other side of a barrier.</td>\n      <td>['less-lethal', 'pepper-spray', 'protester', 'shove', 'spray']</td>\n      <td>Rank 4 - Chemical &amp; Electric</td>\n    </tr>\n    <tr>\n      <th>3</th>\n      <td>4</td>\n      <td>2020-05-31 00:00:00.000000</td>\n      <td>2021-02-26 20:45:37.448138</td>\n      <td>['https://www.youtube.com/watch?v=R7fqWI41vQY', 'https://www.reddit.com/r/Eugene/comments/guxme1/footage_of_epd_shooting_eugene_weekly_reporter/', 'https://twitter.com/hwhouston1/status/1267338971291373568', 'https://www.dailyemerald.com/news/police-fire-pellets-tear-gas-at-late-night-protesters-sunday-police-chief-responds/article_cd4a4450-a49a-11ea-a6fd-73b64efe150a.html']</td>\n      <td>or-eugene-3</td>\n      <td>Eugene</td>\n      <td>Oregon</td>\n      <td>44.044728</td>\n      <td>-123.079238</td>\n      <td>Reporter shot with tear gas canister</td>\n      <td>Footage shows police giving curfew dispersal order to protesters. At one point, the filmer and his fellow journalist identify themselves as a reporter. One officer says, \"It doesn't matter.\" Several subsequent officers do accept their press credentials without issue. They continue to monitor the protest and are later joined by a reporter for the Eugene Weekly.\\r\\n\\r\\nFootage around 2 minutes shows the Eugene Weekly reporter struck at close range with a tear gas canister, that then falls to the ground and explodes.\\r\\n\\r\\nA tweet from the reporter and an article from the Daily Emerald claim the reporter was hit by both a tear gas canister and rubber bullets</td>\n      <td>['journalist', 'less-lethal', 'rubber-bullet', 'shoot', 'tear-gas', 'tear-gas-canister']</td>\n      <td>Rank 4 - Chemical &amp; Electric</td>\n    </tr>\n    <tr>\n      <th>4</th>\n      <td>5</td>\n      <td>2020-06-01 00:00:00.000000</td>\n      <td>2021-02-26 20:45:37.448824</td>\n      <td>['https://www.reddit.com/r/Eugene/comments/gurr9r/police_shoot_projectile_from_moving_vehicle_hit/', 'https://streamable.com/9h2tk3']</td>\n      <td>or-eugene-1</td>\n      <td>Eugene</td>\n      <td>Oregon</td>\n      <td>0.000000</td>\n      <td>0.000000</td>\n      <td>Officer shoots projectile from moving vehicle</td>\n      <td>An officer shoots a projectile out of a moving vehicle, striking pedestrian near eyeball.\\r\\n\\r\\nThis incident took place at in Eugene, OR. Specific area not identified.</td>\n      <td>['less-lethal', 'projectile', 'protester', 'shoot', 'vehicle']</td>\n      <td>Rank 5 - Lethal Force</td>\n    </tr>\n  </tbody>\n</table>\n</div>"
     },
     "metadata": {},
     "execution_count": 31
    }
   ],
   "source": [
    "# pull in reddit data for applying model\n",
    "df = pd.read_csv(\"reddit_data.csv\", index_col=0)\n",
    "df.head()"
   ]
  },
  {
   "cell_type": "code",
   "execution_count": 32,
   "metadata": {},
   "outputs": [],
   "source": [
    "# create column with applied model\n",
    "df[\"force_rank1\"] = df['description'].apply(lambda x:textmatcher(x))"
   ]
  },
  {
   "cell_type": "code",
   "execution_count": 33,
   "metadata": {},
   "outputs": [
    {
     "output_type": "execute_result",
     "data": {
      "text/plain": [
       "Rank 4 - Chemical & Electric    488\n",
       "Rank 1 - Police Presence        244\n",
       "Rank 2 - Empty-hand             231\n",
       "Rank 3 - Blunt Force            201\n",
       "Rank 5 - Lethal Force           113\n",
       "Rank 0 - No Police Presence      19\n",
       "Name: force_rank1, dtype: int64"
      ]
     },
     "metadata": {},
     "execution_count": 33
    }
   ],
   "source": [
    "# breakdown of new columns with catergorization\n",
    "df['force_rank1'].value_counts()"
   ]
  },
  {
   "cell_type": "code",
   "execution_count": 34,
   "metadata": {},
   "outputs": [
    {
     "output_type": "execute_result",
     "data": {
      "text/plain": [
       "Rank 4 - Chemical & Electric    387\n",
       "Rank 1 - Police Presence        359\n",
       "Rank 2 - Empty-hand             205\n",
       "Rank 5 - Lethal Force           160\n",
       "Rank 3 - Blunt Force            106\n",
       "Rank 0 - No Police Presence      79\n",
       "Name: force_rank, dtype: int64"
      ]
     },
     "metadata": {},
     "execution_count": 34
    }
   ],
   "source": [
    "df['force_rank'].value_counts()"
   ]
  },
  {
   "cell_type": "code",
   "execution_count": 23,
   "metadata": {},
   "outputs": [
    {
     "output_type": "execute_result",
     "data": {
      "text/plain": [
       "9                                                                                                                                                                                                                              During a protest at which both pro-police and Black Lives Matter protesters were present near West 7th and Lincoln, members of the two protests appear to exchange words in an intersection. Police charge a protester, a 14 year old girl according to the poster, tackle her to the ground, kneel on her and arrest her.\n",
       "21                                                                                                                                                                                                                                                     Body cam footage from a police officer shows police approaching person on a bike, believed to be a protester leaving the protest. The two officers pull the protester from the bike to make an arrest, throwing the bike aside. An officer then tells passersby at a convenience store to go home.\n",
       "22                                                                                                                                                                                                                                                                                                       First-person footage from a livestream around 2:30 AM on June 7th shows police passing by. A scuffle seems to happen over an umbrella. Then an officer walks over and maces the filmer, a journalist. The journalist then shouts: \"He maced me.\"\n",
       "23                                                                                                                                       Footage from Salmon between 4th and 5th shows a squad car pulling up next to two individuals and a police officer on foot. One officer can be heard saying, \"You were standing there taking photos,\" as he arrests the individuals. Another officer then shouts: \"Leave the area or you will be arrested.\" The filmer states that he is press and the officer reiterates that he will be arrested if he remains.\n",
       "27      A reporter with a press pass is told that his pass does not matter and press is not permitted at the scene. Later, a second officer states the same thing. After asking the second officer for his name, the officer lets the reporter film his badge number but does not give his name. After asking again, the officer threatens the journalist, saying: \"Do you want to go to jail?\" before grabbing the journalist and arresting them.\\r\\n\\r\\nReports on the Portland curfew state explicitly that media are exempt from curfew restrictions.\n",
       "                                                                                                                                                                                                                                                                              ...                                                                                                                                                                                                                                                                        \n",
       "1274                                                                                                                                                                                                                                                                                                                                                                                        Police and protesters face off in the street. Police charge without warning, tackling a protester facing the other direction. The protester is then arrested.\n",
       "1279                                                                                                                                                                                                                                                                                                                      At a protest in West Philadelphia, several police officers arrest a protester for unknown cause. One officer grabs the protester around the waist, lifts them up, and slams them to the ground.\\r\\n\\r\\nLocation is approximate.\n",
       "1287                                                                                                                                                                                                                                                                                                                               Police charge protesters at Colfax and Williams. One officer tackles a fleeing protester to the ground. Police arrest at least one protester. An arrestee was seen beaten and dragged across the pavement by officers.\n",
       "1291                                                                                                                                                  During a small protest on December 4th, police made several arrests, mostly for obstructing the legal system. During one of these arrests at Chicago and 38th, an officer singled out a black protester watching the arrest. The officer approaches the protester, who begins to step away. The officer then chases the protester and throws him to the ground, allegedly dislocating his shoulder.\n",
       "1294                                                                                                                                                                                                                                                               A protester is filming and asking \"why?\", referring to protesters being arrested. An officer then pushs the protester that is filming, knocking the camera to the ground.\\r\\n\\r\\nThe incident appears to have occurred near the junction of I-45 and I-10 by White Oak Bayou Greenway.\n",
       "Name: description, Length: 244, dtype: object"
      ]
     },
     "metadata": {},
     "execution_count": 23
    }
   ],
   "source": [
    "df['description'][df['force_rank1'] == \"Rank 1 - Police Presence\"]"
   ]
  },
  {
   "cell_type": "code",
   "execution_count": 22,
   "metadata": {},
   "outputs": [],
   "source": [
    "pd.set_option('display.max_colwidth', None)"
   ]
  },
  {
   "cell_type": "code",
   "execution_count": 35,
   "metadata": {},
   "outputs": [
    {
     "output_type": "execute_result",
     "data": {
      "text/plain": [
       "        id                       dates                    added_on  \\\n",
       "0        1  2020-05-30 00:00:00.000000  2021-02-26 20:45:37.445121   \n",
       "1        2  2020-05-30 00:00:00.000000  2021-02-26 20:45:37.446934   \n",
       "2        3  2020-05-30 00:00:00.000000  2021-02-26 20:45:37.447560   \n",
       "3        4  2020-05-31 00:00:00.000000  2021-02-26 20:45:37.448138   \n",
       "4        5  2020-06-01 00:00:00.000000  2021-02-26 20:45:37.448824   \n",
       "...    ...                         ...                         ...   \n",
       "1291  2032  2020-12-04 00:00:00.000000  2021-02-26 15:57:29.550788   \n",
       "1292  2033  2020-12-06 00:00:00.000000  2021-02-26 15:57:29.573944   \n",
       "1293  2034  2021-01-09 00:00:00.000000  2021-02-26 15:57:29.596777   \n",
       "1294  2035                         NaN  2021-02-26 15:57:29.619122   \n",
       "1295  2036  2021-02-28 00:00:00.000000  2021-03-01 21:08:39.720578   \n",
       "\n",
       "                                                                                                                                                                                                                                                                                                                                                                                          links  \\\n",
       "0                                                                                                                                                                                                                                                         ['https://www.youtube.com/watch?v=dPTr54DdTdY', 'https://www.reddit.com/r/Eugene/comments/gtbsvq/eugene_police_teargasses_downtown/']   \n",
       "1                                                                                                                                                                                                                                                                         ['https://twitter.com/IwriteOK/status/1266907719635632129', 'https://twitter.com/MrOlmos/status/1266916861267996673']   \n",
       "2                                                                                                                                                                                                                                                                                                                             ['https://www.youtube.com/watch?v=01oWE24O9Zw&feature=emb_title']   \n",
       "3     ['https://www.youtube.com/watch?v=R7fqWI41vQY', 'https://www.reddit.com/r/Eugene/comments/guxme1/footage_of_epd_shooting_eugene_weekly_reporter/', 'https://twitter.com/hwhouston1/status/1267338971291373568', 'https://www.dailyemerald.com/news/police-fire-pellets-tear-gas-at-late-night-protesters-sunday-police-chief-responds/article_cd4a4450-a49a-11ea-a6fd-73b64efe150a.html']   \n",
       "4                                                                                                                                                                                                                                                         ['https://www.reddit.com/r/Eugene/comments/gurr9r/police_shoot_projectile_from_moving_vehicle_hit/', 'https://streamable.com/9h2tk3']   \n",
       "...                                                                                                                                                                                                                                                                                                                                                                                         ...   \n",
       "1291                                                                                                                                                                                                                                                                                                                              ['https://twitter.com/929_julian/status/1337531637026971649']   \n",
       "1292                                                ['https://twitter.com/PplsCityCouncil/status/1335651332179386368', 'https://twitter.com/PplsCityCouncil/status/1335814255212314624', 'https://www.reddit.com/r/PublicFreakout/comments/k8a6iy/chaos_erupts_as_lapd_officers_swings_wildly_at/', 'https://www.reddit.com/r/PublicFreakout/comments/k8jlae/la_cops_doing_what_they_do_best/']   \n",
       "1293                                                                                                                                                                                                                                                                                                                           ['https://twitter.com/waterspider__/status/1348050947507970051']   \n",
       "1294                                                                                                                                                                                                                                                                   ['https://twitter.com/DomSkyeRN/status/1270185401060294656', 'https://twitter.com/DomSkyeRN/status/1270193973462695936']   \n",
       "1295                                                                                                                             ['https://twitter.com/BGOnTheScene/status/1365956754710749187', 'https://twitter.com/jwcroxton/status/1365912366567759872', 'https://twitter.com/PDocumentarians/status/1365967922544340993', 'https://twitter.com/MasonLakePhoto/status/1365935882973290496']   \n",
       "\n",
       "                case_id         city       state        lat        long  \\\n",
       "0           or-eugene-2       Eugene      Oregon  44.049913 -123.097391   \n",
       "1         or-portland-1     Portland      Oregon  45.515586 -122.676994   \n",
       "2         or-portland-2     Portland      Oregon  45.515468 -122.676571   \n",
       "3           or-eugene-3       Eugene      Oregon  44.044728 -123.079238   \n",
       "4           or-eugene-1       Eugene      Oregon   0.000000    0.000000   \n",
       "...                 ...          ...         ...        ...         ...   \n",
       "1291  mn-minneapolis-39  Minneapolis   Minnesota  44.934225  -93.262402   \n",
       "1292   ca-losangeles-65  Los Angeles  California  34.063557 -118.318640   \n",
       "1293      ca-sandiego-9    San Diego  California  32.796060 -117.255302   \n",
       "1294       tx-houston-3      Houston       Texas  29.769473  -95.364922   \n",
       "1295    or-portland-424     Portland      Oregon  45.532930 -122.683506   \n",
       "\n",
       "                                                   title  \\\n",
       "0                         Peaceful protester tear gassed   \n",
       "1             Police violently break up peaceful protest   \n",
       "2                        Officer pepper-sprays protester   \n",
       "3                   Reporter shot with tear gas canister   \n",
       "4          Officer shoots projectile from moving vehicle   \n",
       "...                                                  ...   \n",
       "1291                  Police arrest and injure protester   \n",
       "1292  Protesters outside Mayor's home beaten with batons   \n",
       "1293  Police assault and shoot at BLM counter-protesters   \n",
       "1294             Officer pushs protester that is filming   \n",
       "1295                         Police assault photographer   \n",
       "\n",
       "                                                                                                                                                                                                                                                                                                                                                                                                                                                                                                                                                                                                                                                                                   description  \\\n",
       "0                                                                                                                                                                                                                                                                                                                                             Footage shows a small cluster of protesters chanting \"I can't breathe\" near Lincoln and Broadway. At 1:15 in the footage, without warning, police fire tear gas, causing most protesters flee. Some canisters can be seen thrown back towards police.\\r\\n\\r\\nPolice then proceed down the street. More tear gas is fired at 4:30 in the footage.   \n",
       "1                                                                                                                                                                                                                                                                                                                                                                                                                                                                                                                                                                                             The Police try to break up the peaceful protest by resorting to hitting individuals with batons.   \n",
       "2                                                                                                                                                                                                                                                                                                                                                                                                                                                                                                                                                                                                     An officer shoves and pepper-sprays a protester standing on the other side of a barrier.   \n",
       "3     Footage shows police giving curfew dispersal order to protesters. At one point, the filmer and his fellow journalist identify themselves as a reporter. One officer says, \"It doesn't matter.\" Several subsequent officers do accept their press credentials without issue. They continue to monitor the protest and are later joined by a reporter for the Eugene Weekly.\\r\\n\\r\\nFootage around 2 minutes shows the Eugene Weekly reporter struck at close range with a tear gas canister, that then falls to the ground and explodes.\\r\\n\\r\\nA tweet from the reporter and an article from the Daily Emerald claim the reporter was hit by both a tear gas canister and rubber bullets   \n",
       "4                                                                                                                                                                                                                                                                                                                                                                                                                                                                                                                    An officer shoots a projectile out of a moving vehicle, striking pedestrian near eyeball.\\r\\n\\r\\nThis incident took place at in Eugene, OR. Specific area not identified.   \n",
       "...                                                                                                                                                                                                                                                                                                                                                                                                                                                                                                                                                                                                                                                                                        ...   \n",
       "1291                                                                                                                                                                                                                                                                                       During a small protest on December 4th, police made several arrests, mostly for obstructing the legal system. During one of these arrests at Chicago and 38th, an officer singled out a black protester watching the arrest. The officer approaches the protester, who begins to step away. The officer then chases the protester and throws him to the ground, allegedly dislocating his shoulder.   \n",
       "1292                                                                                                                                                                                                                                                                                                                                            On the 13th day of protests outside the Getty House, the official Los Angeles mayoral residence, police charged protesters, striking them and legal observers with batons.\\r\\n\\r\\nProtests have been intended to show popular discontent with the possibility of President-Elect Biden nominating Mayor Garcetti to a position in his cabinet.   \n",
       "1293                                                                                                                                                                                                                                                                                        At dueling rallies in Pacific Beach between Pro-Trump supporters and Black Lives Matter counter-protesters, riot police lined up facing the BLM group. Footage taken after the beginning of a scuffle shows police with batons beating a BLM protester on the ground. Police can be heard firing pepper balls at protesters throughout the footage. The protester is then released without arrest.   \n",
       "1294                                                                                                                                                                                                                                                                                                                                                                                                    A protester is filming and asking \"why?\", referring to protesters being arrested. An officer then pushs the protester that is filming, knocking the camera to the ground.\\r\\n\\r\\nThe incident appears to have occurred near the junction of I-45 and I-10 by White Oak Bayou Greenway.   \n",
       "1295                                                                                                                                                                                                                                                                                                                                                                                                                           At an anti-ICE protest in the Portland Pearl District, several police officers on bicycles rode up to a clearly labeled photographer standing in the street at 12th Ave and Pettygrove st. The officers pushed the photographer before one officer punches him.   \n",
       "\n",
       "                                                                                               tags  \\\n",
       "0                                                          ['less-lethal', 'protester', 'tear-gas']   \n",
       "1                                                          ['baton', 'beat', 'protester', 'strike']   \n",
       "2                                    ['less-lethal', 'pepper-spray', 'protester', 'shove', 'spray']   \n",
       "3          ['journalist', 'less-lethal', 'rubber-bullet', 'shoot', 'tear-gas', 'tear-gas-canister']   \n",
       "4                                    ['less-lethal', 'projectile', 'protester', 'shoot', 'vehicle']   \n",
       "...                                                                                             ...   \n",
       "1291                                                     ['arrest', 'protester', 'tackle', 'throw']   \n",
       "1292                                             ['baton', 'legal-observer', 'protester', 'strike']   \n",
       "1293  ['baton', 'beat', 'less-lethal', 'pepper-ball', 'projectile', 'protester', 'shoot', 'strike']   \n",
       "1294                               ['arrest', 'property-destruction', 'protester', 'push', 'shove']   \n",
       "1295                                             ['journalist', 'punch', 'push', 'shove', 'strike']   \n",
       "\n",
       "                        force_rank                   force_rank1  \n",
       "0     Rank 4 - Chemical & Electric  Rank 4 - Chemical & Electric  \n",
       "1         Rank 1 - Police Presence          Rank 3 - Blunt Force  \n",
       "2     Rank 4 - Chemical & Electric  Rank 4 - Chemical & Electric  \n",
       "3     Rank 4 - Chemical & Electric  Rank 4 - Chemical & Electric  \n",
       "4            Rank 5 - Lethal Force         Rank 5 - Lethal Force  \n",
       "...                            ...                           ...  \n",
       "1291      Rank 1 - Police Presence      Rank 1 - Police Presence  \n",
       "1292          Rank 3 - Blunt Force          Rank 3 - Blunt Force  \n",
       "1293         Rank 5 - Lethal Force          Rank 3 - Blunt Force  \n",
       "1294      Rank 1 - Police Presence      Rank 1 - Police Presence  \n",
       "1295      Rank 1 - Police Presence           Rank 2 - Empty-hand  \n",
       "\n",
       "[1296 rows x 14 columns]"
      ],
      "text/html": "<div>\n<style scoped>\n    .dataframe tbody tr th:only-of-type {\n        vertical-align: middle;\n    }\n\n    .dataframe tbody tr th {\n        vertical-align: top;\n    }\n\n    .dataframe thead th {\n        text-align: right;\n    }\n</style>\n<table border=\"1\" class=\"dataframe\">\n  <thead>\n    <tr style=\"text-align: right;\">\n      <th></th>\n      <th>id</th>\n      <th>dates</th>\n      <th>added_on</th>\n      <th>links</th>\n      <th>case_id</th>\n      <th>city</th>\n      <th>state</th>\n      <th>lat</th>\n      <th>long</th>\n      <th>title</th>\n      <th>description</th>\n      <th>tags</th>\n      <th>force_rank</th>\n      <th>force_rank1</th>\n    </tr>\n  </thead>\n  <tbody>\n    <tr>\n      <th>0</th>\n      <td>1</td>\n      <td>2020-05-30 00:00:00.000000</td>\n      <td>2021-02-26 20:45:37.445121</td>\n      <td>['https://www.youtube.com/watch?v=dPTr54DdTdY', 'https://www.reddit.com/r/Eugene/comments/gtbsvq/eugene_police_teargasses_downtown/']</td>\n      <td>or-eugene-2</td>\n      <td>Eugene</td>\n      <td>Oregon</td>\n      <td>44.049913</td>\n      <td>-123.097391</td>\n      <td>Peaceful protester tear gassed</td>\n      <td>Footage shows a small cluster of protesters chanting \"I can't breathe\" near Lincoln and Broadway. At 1:15 in the footage, without warning, police fire tear gas, causing most protesters flee. Some canisters can be seen thrown back towards police.\\r\\n\\r\\nPolice then proceed down the street. More tear gas is fired at 4:30 in the footage.</td>\n      <td>['less-lethal', 'protester', 'tear-gas']</td>\n      <td>Rank 4 - Chemical &amp; Electric</td>\n      <td>Rank 4 - Chemical &amp; Electric</td>\n    </tr>\n    <tr>\n      <th>1</th>\n      <td>2</td>\n      <td>2020-05-30 00:00:00.000000</td>\n      <td>2021-02-26 20:45:37.446934</td>\n      <td>['https://twitter.com/IwriteOK/status/1266907719635632129', 'https://twitter.com/MrOlmos/status/1266916861267996673']</td>\n      <td>or-portland-1</td>\n      <td>Portland</td>\n      <td>Oregon</td>\n      <td>45.515586</td>\n      <td>-122.676994</td>\n      <td>Police violently break up peaceful protest</td>\n      <td>The Police try to break up the peaceful protest by resorting to hitting individuals with batons.</td>\n      <td>['baton', 'beat', 'protester', 'strike']</td>\n      <td>Rank 1 - Police Presence</td>\n      <td>Rank 3 - Blunt Force</td>\n    </tr>\n    <tr>\n      <th>2</th>\n      <td>3</td>\n      <td>2020-05-30 00:00:00.000000</td>\n      <td>2021-02-26 20:45:37.447560</td>\n      <td>['https://www.youtube.com/watch?v=01oWE24O9Zw&amp;feature=emb_title']</td>\n      <td>or-portland-2</td>\n      <td>Portland</td>\n      <td>Oregon</td>\n      <td>45.515468</td>\n      <td>-122.676571</td>\n      <td>Officer pepper-sprays protester</td>\n      <td>An officer shoves and pepper-sprays a protester standing on the other side of a barrier.</td>\n      <td>['less-lethal', 'pepper-spray', 'protester', 'shove', 'spray']</td>\n      <td>Rank 4 - Chemical &amp; Electric</td>\n      <td>Rank 4 - Chemical &amp; Electric</td>\n    </tr>\n    <tr>\n      <th>3</th>\n      <td>4</td>\n      <td>2020-05-31 00:00:00.000000</td>\n      <td>2021-02-26 20:45:37.448138</td>\n      <td>['https://www.youtube.com/watch?v=R7fqWI41vQY', 'https://www.reddit.com/r/Eugene/comments/guxme1/footage_of_epd_shooting_eugene_weekly_reporter/', 'https://twitter.com/hwhouston1/status/1267338971291373568', 'https://www.dailyemerald.com/news/police-fire-pellets-tear-gas-at-late-night-protesters-sunday-police-chief-responds/article_cd4a4450-a49a-11ea-a6fd-73b64efe150a.html']</td>\n      <td>or-eugene-3</td>\n      <td>Eugene</td>\n      <td>Oregon</td>\n      <td>44.044728</td>\n      <td>-123.079238</td>\n      <td>Reporter shot with tear gas canister</td>\n      <td>Footage shows police giving curfew dispersal order to protesters. At one point, the filmer and his fellow journalist identify themselves as a reporter. One officer says, \"It doesn't matter.\" Several subsequent officers do accept their press credentials without issue. They continue to monitor the protest and are later joined by a reporter for the Eugene Weekly.\\r\\n\\r\\nFootage around 2 minutes shows the Eugene Weekly reporter struck at close range with a tear gas canister, that then falls to the ground and explodes.\\r\\n\\r\\nA tweet from the reporter and an article from the Daily Emerald claim the reporter was hit by both a tear gas canister and rubber bullets</td>\n      <td>['journalist', 'less-lethal', 'rubber-bullet', 'shoot', 'tear-gas', 'tear-gas-canister']</td>\n      <td>Rank 4 - Chemical &amp; Electric</td>\n      <td>Rank 4 - Chemical &amp; Electric</td>\n    </tr>\n    <tr>\n      <th>4</th>\n      <td>5</td>\n      <td>2020-06-01 00:00:00.000000</td>\n      <td>2021-02-26 20:45:37.448824</td>\n      <td>['https://www.reddit.com/r/Eugene/comments/gurr9r/police_shoot_projectile_from_moving_vehicle_hit/', 'https://streamable.com/9h2tk3']</td>\n      <td>or-eugene-1</td>\n      <td>Eugene</td>\n      <td>Oregon</td>\n      <td>0.000000</td>\n      <td>0.000000</td>\n      <td>Officer shoots projectile from moving vehicle</td>\n      <td>An officer shoots a projectile out of a moving vehicle, striking pedestrian near eyeball.\\r\\n\\r\\nThis incident took place at in Eugene, OR. Specific area not identified.</td>\n      <td>['less-lethal', 'projectile', 'protester', 'shoot', 'vehicle']</td>\n      <td>Rank 5 - Lethal Force</td>\n      <td>Rank 5 - Lethal Force</td>\n    </tr>\n    <tr>\n      <th>...</th>\n      <td>...</td>\n      <td>...</td>\n      <td>...</td>\n      <td>...</td>\n      <td>...</td>\n      <td>...</td>\n      <td>...</td>\n      <td>...</td>\n      <td>...</td>\n      <td>...</td>\n      <td>...</td>\n      <td>...</td>\n      <td>...</td>\n      <td>...</td>\n    </tr>\n    <tr>\n      <th>1291</th>\n      <td>2032</td>\n      <td>2020-12-04 00:00:00.000000</td>\n      <td>2021-02-26 15:57:29.550788</td>\n      <td>['https://twitter.com/929_julian/status/1337531637026971649']</td>\n      <td>mn-minneapolis-39</td>\n      <td>Minneapolis</td>\n      <td>Minnesota</td>\n      <td>44.934225</td>\n      <td>-93.262402</td>\n      <td>Police arrest and injure protester</td>\n      <td>During a small protest on December 4th, police made several arrests, mostly for obstructing the legal system. During one of these arrests at Chicago and 38th, an officer singled out a black protester watching the arrest. The officer approaches the protester, who begins to step away. The officer then chases the protester and throws him to the ground, allegedly dislocating his shoulder.</td>\n      <td>['arrest', 'protester', 'tackle', 'throw']</td>\n      <td>Rank 1 - Police Presence</td>\n      <td>Rank 1 - Police Presence</td>\n    </tr>\n    <tr>\n      <th>1292</th>\n      <td>2033</td>\n      <td>2020-12-06 00:00:00.000000</td>\n      <td>2021-02-26 15:57:29.573944</td>\n      <td>['https://twitter.com/PplsCityCouncil/status/1335651332179386368', 'https://twitter.com/PplsCityCouncil/status/1335814255212314624', 'https://www.reddit.com/r/PublicFreakout/comments/k8a6iy/chaos_erupts_as_lapd_officers_swings_wildly_at/', 'https://www.reddit.com/r/PublicFreakout/comments/k8jlae/la_cops_doing_what_they_do_best/']</td>\n      <td>ca-losangeles-65</td>\n      <td>Los Angeles</td>\n      <td>California</td>\n      <td>34.063557</td>\n      <td>-118.318640</td>\n      <td>Protesters outside Mayor's home beaten with batons</td>\n      <td>On the 13th day of protests outside the Getty House, the official Los Angeles mayoral residence, police charged protesters, striking them and legal observers with batons.\\r\\n\\r\\nProtests have been intended to show popular discontent with the possibility of President-Elect Biden nominating Mayor Garcetti to a position in his cabinet.</td>\n      <td>['baton', 'legal-observer', 'protester', 'strike']</td>\n      <td>Rank 3 - Blunt Force</td>\n      <td>Rank 3 - Blunt Force</td>\n    </tr>\n    <tr>\n      <th>1293</th>\n      <td>2034</td>\n      <td>2021-01-09 00:00:00.000000</td>\n      <td>2021-02-26 15:57:29.596777</td>\n      <td>['https://twitter.com/waterspider__/status/1348050947507970051']</td>\n      <td>ca-sandiego-9</td>\n      <td>San Diego</td>\n      <td>California</td>\n      <td>32.796060</td>\n      <td>-117.255302</td>\n      <td>Police assault and shoot at BLM counter-protesters</td>\n      <td>At dueling rallies in Pacific Beach between Pro-Trump supporters and Black Lives Matter counter-protesters, riot police lined up facing the BLM group. Footage taken after the beginning of a scuffle shows police with batons beating a BLM protester on the ground. Police can be heard firing pepper balls at protesters throughout the footage. The protester is then released without arrest.</td>\n      <td>['baton', 'beat', 'less-lethal', 'pepper-ball', 'projectile', 'protester', 'shoot', 'strike']</td>\n      <td>Rank 5 - Lethal Force</td>\n      <td>Rank 3 - Blunt Force</td>\n    </tr>\n    <tr>\n      <th>1294</th>\n      <td>2035</td>\n      <td>NaN</td>\n      <td>2021-02-26 15:57:29.619122</td>\n      <td>['https://twitter.com/DomSkyeRN/status/1270185401060294656', 'https://twitter.com/DomSkyeRN/status/1270193973462695936']</td>\n      <td>tx-houston-3</td>\n      <td>Houston</td>\n      <td>Texas</td>\n      <td>29.769473</td>\n      <td>-95.364922</td>\n      <td>Officer pushs protester that is filming</td>\n      <td>A protester is filming and asking \"why?\", referring to protesters being arrested. An officer then pushs the protester that is filming, knocking the camera to the ground.\\r\\n\\r\\nThe incident appears to have occurred near the junction of I-45 and I-10 by White Oak Bayou Greenway.</td>\n      <td>['arrest', 'property-destruction', 'protester', 'push', 'shove']</td>\n      <td>Rank 1 - Police Presence</td>\n      <td>Rank 1 - Police Presence</td>\n    </tr>\n    <tr>\n      <th>1295</th>\n      <td>2036</td>\n      <td>2021-02-28 00:00:00.000000</td>\n      <td>2021-03-01 21:08:39.720578</td>\n      <td>['https://twitter.com/BGOnTheScene/status/1365956754710749187', 'https://twitter.com/jwcroxton/status/1365912366567759872', 'https://twitter.com/PDocumentarians/status/1365967922544340993', 'https://twitter.com/MasonLakePhoto/status/1365935882973290496']</td>\n      <td>or-portland-424</td>\n      <td>Portland</td>\n      <td>Oregon</td>\n      <td>45.532930</td>\n      <td>-122.683506</td>\n      <td>Police assault photographer</td>\n      <td>At an anti-ICE protest in the Portland Pearl District, several police officers on bicycles rode up to a clearly labeled photographer standing in the street at 12th Ave and Pettygrove st. The officers pushed the photographer before one officer punches him.</td>\n      <td>['journalist', 'punch', 'push', 'shove', 'strike']</td>\n      <td>Rank 1 - Police Presence</td>\n      <td>Rank 2 - Empty-hand</td>\n    </tr>\n  </tbody>\n</table>\n<p>1296 rows × 14 columns</p>\n</div>"
     },
     "metadata": {},
     "execution_count": 35
    }
   ],
   "source": [
    "df"
   ]
  }
 ],
 "metadata": {
  "kernelspec": {
   "name": "python3",
   "display_name": "Python 3.7.9 64-bit ('Portfolio-Tracker': pipenv)",
   "metadata": {
    "interpreter": {
     "hash": "0600588c3b5f4418cbe7b5ebc6825b479f3bc010269d8b60d75058cdd010adfe"
    }
   }
  },
  "language_info": {
   "codemirror_mode": {
    "name": "ipython",
    "version": 3
   },
   "file_extension": ".py",
   "mimetype": "text/x-python",
   "name": "python",
   "nbconvert_exporter": "python",
   "pygments_lexer": "ipython3",
   "version": "3.7.9-final"
  }
 },
 "nbformat": 4,
 "nbformat_minor": 4
}