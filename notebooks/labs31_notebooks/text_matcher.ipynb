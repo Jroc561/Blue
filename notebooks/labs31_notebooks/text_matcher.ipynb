{
 "cells": [
  {
   "cell_type": "code",
   "execution_count": null,
   "metadata": {},
   "outputs": [],
   "source": [
    "# install dependencies  \n",
    "from sklearn.feature_extraction.text import TfidfVectorizer\n",
    "from sklearn.neighbors import NearestNeighbors\n",
    "import spacy\n",
    "import en_core_web_sm\n",
    "import pandas as pd"
   ]
  },
  {
   "cell_type": "code",
   "execution_count": null,
   "metadata": {},
   "outputs": [],
   "source": [
    "ranked_reports = {\n",
    "    \"Rank 1 - Police Presence\": [\n",
    "        \"policeman, policewoman, law enforcement\",\n",
    "        \"police officer, cop, five-o, fuzz, DHS\",\n",
    "    ],\n",
    "    \"Rank 2 - Empty-hand\": [\n",
    "        \"policeman, policewoman, law enforcement\",\n",
    "        \"police officer, cop, five-o, fuzz, DHS\",\n",
    "        \"pushed and shoved with shields\",\n",
    "        \"grabs, holds and joint locks\",\n",
    "        \"punch and kick\",\n",
    "    ],\n",
    "    \"Rank 3 - Blunt Force\": [\n",
    "        \"policeman, policewoman, law enforcement\",\n",
    "        \"police officer, cop, five-o, fuzz, DHS\",\n",
    "        \"rubber bullets\",\n",
    "        \"riot rounds\",\n",
    "        \"batons\",\n",
    "    ],\n",
    "    \"Rank 4 - Chemical & Electric\": [\n",
    "        \"policeman, policewoman, law enforcement\",\n",
    "        \"police officer, cop, five-o, fuzz, DHS\",\n",
    "        \"tear gas\",\n",
    "        \"pepper spray\",\n",
    "        \"flashbangs, stun grenade\",\n",
    "        \"chemical sprays\",\n",
    "        \"Conducted energy devices, CED or tazor\",\n",
    "    ],\n",
    "    \"Rank 5 - Lethal Force\": [\n",
    "        \"policeman, policewoman, law enforcement\",\n",
    "        \"police officer, cop, five-o, fuzz, DHS\",\n",
    "        \"shoot and kill\",\n",
    "        \"open fire\",\n",
    "        \"deadly force\",\n",
    "        \"fatal\",\n",
    "        \"dies\",\n",
    "    ],\n",
    "}"
   ]
  },
  {
   "cell_type": "code",
   "execution_count": null,
   "metadata": {},
   "outputs": [],
   "source": [
    "ranked_reports1 = {\n",
    "    \"Rank 1 - Police Presence\": [\n",
    "        \"policeman\", \"policewoman\", \"law enforcement\",\n",
    "        \"police officer, cop, five-o, fuzz, DHS\", \n",
    "        \"protester\", \"FPS\", \"officer\",\n",
    "        \"Federal Protective Services\",\n",
    "    ],\n",
    "    \"Rank 2 - Empty-hand\": [\n",
    "        \"policeman\", \"policewoman\", \"law enforcement\",\n",
    "        \"police officer\", \"cop\", \"five-o\", \"fuzz, DHS\",\n",
    "        \"pushed and shoved with shields\", \"officer\",\n",
    "        \"grabs, holds and joint locks\",\n",
    "        \"punch and kick\", \"thrown to the ground\", \"hit\",\n",
    "        \"charge a protester\", \"tackle to the ground\", \n",
    "        \"kneel on\", \"arrest\", \"protester\",\n",
    "        \"FPS\", \"Federal Protective Services\", \"zip-ties\",\n",
    "        \"police chase and attack\", \"kicking him\", \n",
    "        \"threw him to the ground\", \"handcuff him\", \n",
    "        \"kneeling on a protester\", \"pinning down\", \n",
    "        \"tackle\", \"shoved to the ground\", \"violent\",\n",
    "        \"officer shove\"\n",
    "\n",
    "    ],\n",
    "    \"Rank 3 - Blunt Force\": [\n",
    "        \"policeman\", \"policewoman\", \"law enforcement\",\n",
    "        \"police officer\", \"cop\", \"five-o\", \"fuzz\", \"DHS\",\n",
    "        \"rubber bullets\", \"officer\",\n",
    "        \"riot rounds\",\n",
    "        \"batons\", \"blood\", \"hit\", \"arrest\",\n",
    "        \"protester\", \"FPS\", \n",
    "        \"Federal Protective Services\", \n",
    "        \"strike with baton\", \"violent\",\n",
    "\n",
    "\n",
    "    ],\n",
    "    \"Rank 4 - Chemical & Electric\": [\n",
    "        \"policeman\", \"policewoman\", \"law enforcement\",\n",
    "        \"police officer\", \"cop\", \"five-o\", \"fuzz\", \"DHS\",\n",
    "        \"tear gas\", \"officer\",\n",
    "        \"pepper spray\",\n",
    "        \"flashbangs\", \"stun grenade\",\n",
    "        \"chemical sprays\",\n",
    "        \"Conducted energy devices, CED or tazor\",\n",
    "        \"blood\", \"arrest\", \"protester\", \"FPS\", \n",
    "        \"Federal Protective Services\", \"pepper balls\",\n",
    "        \"using munitions on prosters\", \"struck by a round\",\n",
    "        \"fire pepper balls and tear gas\", \n",
    "        \"struck in chest by projectile\", \"violent\", \n",
    "        \"munition\", \"firing a riot gun\", \"paintball gun\",\n",
    "        \"shots are fired\", \"fire explosives\", \n",
    "        \"fire impact munitions\",\n",
    "\n",
    "\n",
    "    ],\n",
    "    \"Rank 5 - Lethal Force\": [\n",
    "        \"policeman\", \"policewoman\", \"law enforcement\",\n",
    "        \"police officer\", \"cop\", \"five-o\", \"fuzz\", \"DHS\",\n",
    "        \"shoot and kill\", \"protester\",\n",
    "        \"open fire\", \"FPS\", \"officer\",\n",
    "        \"Federal Protective Services\",\n",
    "        \"deadly force\", \"fatal\",\n",
    "        \"dies\", 'kill', \"arrest\", \"violent\", \n",
    "        \"shot and killed\",\n",
    "\n",
    "    ],\n",
    "}"
   ]
  },
  {
   "cell_type": "code",
   "execution_count": null,
   "metadata": {},
   "outputs": [],
   "source": [
    "class TextMatcher:\n",
    "    \"\"\" Generic NLP Text Matching Model \"\"\"\n",
    "\n",
    "    class Tokenizer:\n",
    "        \"\"\" Standard SpaCy Tokenizer \"\"\"\n",
    "        nlp = spacy.load(\"en_core_web_sm\")\n",
    "\n",
    "        def __call__(self, text: str) -> list:\n",
    "            return [\n",
    "                token.lemma_.lower() for token in self.nlp(text)\n",
    "                if not token.is_stop and not token.is_punct\n",
    "            ]\n",
    "\n",
    "    def __init__(self, train_data: dict, ngram_range=(1, 3), max_features=8000):\n",
    "        \"\"\" Model training on live data at init \"\"\"\n",
    "        self.lookup = {k: ' '.join(v) for k, v in train_data.items()}\n",
    "        self.name_index = list(self.lookup.keys())\n",
    "        self.tfidf = TfidfVectorizer(\n",
    "            ngram_range=ngram_range,\n",
    "            tokenizer=self.Tokenizer(),\n",
    "            max_features=max_features,\n",
    "        )\n",
    "        self.knn = NearestNeighbors(\n",
    "            n_neighbors=1,\n",
    "            leaf_size =15,\n",
    "            metric='cosine',\n",
    "            algorithm='brute',\n",
    "            n_jobs=-1,\n",
    "        ).fit(self.tfidf.fit_transform(self.lookup.values()).todense())\n",
    "        self.baseline, _ = self._worker('')\n",
    "\n",
    "    def _worker(self, user_input: str):\n",
    "        \"\"\" Prediction worker method - internal only \"\"\"\n",
    "        vec = self.tfidf.transform([user_input]).todense()\n",
    "        return (itm[0][0] for itm in self.knn.kneighbors(vec))\n",
    "\n",
    "    def __call__(self, user_input: str) -> str:\n",
    "        \"\"\" Callable object for making predictions \"\"\"\n",
    "        dist, idx = self._worker(user_input)\n",
    "        if dist != self.baseline:\n",
    "            return self.name_index[int(idx)]\n",
    "        else:\n",
    "            return 'Rank 0 - No Police Presence'"
   ]
  },
  {
   "cell_type": "code",
   "execution_count": null,
   "metadata": {},
   "outputs": [],
   "source": [
    "# model for ranked reports and ranked reports1\n",
    "textmatcher = TextMatcher(ranked_reports)\n",
    "textmatcher1 = TextMatcher(ranked_reports1)"
   ]
  },
  {
   "cell_type": "code",
   "execution_count": null,
   "metadata": {},
   "outputs": [],
   "source": [
    "# sample text to run through model\n",
    "text = \"\"\"\n",
    "During a protest at which both pro-police and Black Lives Matter protesters were present near West 7th and Lincoln, members of the two protests appear to exchange words in an intersection. Police charge a protester, a 14 year old girl according to the poster, tackle her to the ground, kneel on her and arrest her.\n",
    "\"\"\""
   ]
  },
  {
   "cell_type": "code",
   "execution_count": null,
   "metadata": {},
   "outputs": [],
   "source": [
    "# sample text using text matching through ranked reports\n",
    "textmatcher(text)"
   ]
  },
  {
   "cell_type": "code",
   "execution_count": null,
   "metadata": {},
   "outputs": [],
   "source": [
    "# sample text using text matching through ranked reports 1\n",
    "textmatcher1(text)"
   ]
  },
  {
   "cell_type": "code",
   "execution_count": null,
   "metadata": {},
   "outputs": [],
   "source": [
    "# pull in reddit data for applying model\n",
    "df = pd.read_csv(\"reddit_data.csv\", index_col=0)\n",
    "df.head()"
   ]
  },
  {
   "cell_type": "code",
   "execution_count": null,
   "metadata": {},
   "outputs": [],
   "source": [
    "# create column with applied model\n",
    "df[\"force_rank1\"] = df['description'].apply(lambda x:textmatcher(x))"
   ]
  },
  {
   "cell_type": "code",
   "execution_count": null,
   "metadata": {},
   "outputs": [],
   "source": [
    "# breakdown of new columns with catergorization\n",
    "df['force_rank1'].value_counts()"
   ]
  },
  {
   "cell_type": "code",
   "execution_count": null,
   "metadata": {},
   "outputs": [],
   "source": [
    "# breakdown of new columns with catergorization\n",
    "df['force_rank'].value_counts()"
   ]
  },
  {
   "cell_type": "code",
   "execution_count": null,
   "metadata": {},
   "outputs": [],
   "source": [
    "df['description'][df['force_rank1'] == \"Rank 1 - Police Presence\"]"
   ]
  },
  {
   "cell_type": "code",
   "execution_count": null,
   "metadata": {},
   "outputs": [],
   "source": [
    "pd.set_option('display.max_colwidth', None)"
   ]
  },
  {
   "cell_type": "code",
   "execution_count": null,
   "metadata": {},
   "outputs": [],
   "source": [
    "df"
   ]
  }
 ],
 "metadata": {
  "kernelspec": {
   "display_name": "Python 3.7.9 64-bit ('Portfolio-Tracker': pipenv)",
   "metadata": {
    "interpreter": {
     "hash": "0600588c3b5f4418cbe7b5ebc6825b479f3bc010269d8b60d75058cdd010adfe"
    }
   },
   "name": "python3"
  },
  "language_info": {
   "codemirror_mode": {
    "name": "ipython",
    "version": 3
   },
   "file_extension": ".py",
   "mimetype": "text/x-python",
   "name": "python",
   "nbconvert_exporter": "python",
   "pygments_lexer": "ipython3",
   "version": "3.7.9-final"
  }
 },
 "nbformat": 4,
 "nbformat_minor": 4
}