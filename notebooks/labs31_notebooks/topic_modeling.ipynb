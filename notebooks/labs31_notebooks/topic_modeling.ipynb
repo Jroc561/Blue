{
 "cells": [
  {
   "cell_type": "markdown",
   "metadata": {},
   "source": [
    "# Topic modeling\n",
    "## Lab31 - HRF-Police\n",
    "\n",
    "Author: Micah Swain\n",
    "\n",
    "## Guiding Quesitons\n",
    "Can I cluster twitter topics to isolate police prutatility incidents on twitter?\n",
    "\n",
    "## Approach\n",
    "- apply NLP of the twitter data\n",
    "- Estimate topic model on the data\n",
    "- Create visualizations relating to the topics."
   ]
  },
  {
   "cell_type": "markdown",
   "metadata": {},
   "source": [
    "# Import Data"
   ]
  },
  {
   "cell_type": "code",
   "execution_count": 1,
   "metadata": {},
   "outputs": [],
   "source": [
    "# install dependencies \n",
    "import pandas as pd\n",
    "import spacy\n",
    "from spacy.lang.en import English\n",
    "import nltk\n",
    "\n",
    "from nltk.corpus import wordnet as wn\n",
    "from nltk.stem.wordnet import WordNetLemmatizer"
   ]
  },
  {
   "cell_type": "code",
   "execution_count": 2,
   "metadata": {},
   "outputs": [],
   "source": [
    "# read csv to test data\n",
    "df = pd.read_csv(\"combined_tweets.csv\")"
   ]
  },
  {
   "cell_type": "code",
   "execution_count": 3,
   "metadata": {},
   "outputs": [
    {
     "output_type": "execute_result",
     "data": {
      "text/plain": [
       "(6539, 3)"
      ]
     },
     "metadata": {},
     "execution_count": 3
    }
   ],
   "source": [
    "# drop NAs and get shape\n",
    "df.dropna(inplace=True)\n",
    "df.shape"
   ]
  },
  {
   "cell_type": "code",
   "execution_count": 4,
   "metadata": {},
   "outputs": [
    {
     "output_type": "execute_result",
     "data": {
      "text/plain": [
       "                   ids                                               text  \\\n",
       "0  1266136557871869952  Police in NYC made several arrests during a pr...   \n",
       "1  1266159669262893057  Calls for justice for George Floyd. Protesters...   \n",
       "2  1266555286678048770  NYPD just casually slamming a dude with a car ...   \n",
       "3  1266540710188195843  Update: Got her permission with a fuck yeah. T...   \n",
       "4  1266529475757510656  NYPD officer just called a female protester a ...   \n",
       "\n",
       "   reddit  \n",
       "0       1  \n",
       "1       1  \n",
       "2       1  \n",
       "3       1  \n",
       "4       1  "
      ],
      "text/html": "<div>\n<style scoped>\n    .dataframe tbody tr th:only-of-type {\n        vertical-align: middle;\n    }\n\n    .dataframe tbody tr th {\n        vertical-align: top;\n    }\n\n    .dataframe thead th {\n        text-align: right;\n    }\n</style>\n<table border=\"1\" class=\"dataframe\">\n  <thead>\n    <tr style=\"text-align: right;\">\n      <th></th>\n      <th>ids</th>\n      <th>text</th>\n      <th>reddit</th>\n    </tr>\n  </thead>\n  <tbody>\n    <tr>\n      <th>0</th>\n      <td>1266136557871869952</td>\n      <td>Police in NYC made several arrests during a pr...</td>\n      <td>1</td>\n    </tr>\n    <tr>\n      <th>1</th>\n      <td>1266159669262893057</td>\n      <td>Calls for justice for George Floyd. Protesters...</td>\n      <td>1</td>\n    </tr>\n    <tr>\n      <th>2</th>\n      <td>1266555286678048770</td>\n      <td>NYPD just casually slamming a dude with a car ...</td>\n      <td>1</td>\n    </tr>\n    <tr>\n      <th>3</th>\n      <td>1266540710188195843</td>\n      <td>Update: Got her permission with a fuck yeah. T...</td>\n      <td>1</td>\n    </tr>\n    <tr>\n      <th>4</th>\n      <td>1266529475757510656</td>\n      <td>NYPD officer just called a female protester a ...</td>\n      <td>1</td>\n    </tr>\n  </tbody>\n</table>\n</div>"
     },
     "metadata": {},
     "execution_count": 4
    }
   ],
   "source": [
    "# seeing how the data looks\n",
    "df.head()"
   ]
  },
  {
   "cell_type": "code",
   "execution_count": 5,
   "metadata": {},
   "outputs": [
    {
     "output_type": "execute_result",
     "data": {
      "text/plain": [
       "'Police in NYC made several arrests during a protest in NYC.'"
      ]
     },
     "metadata": {},
     "execution_count": 5
    }
   ],
   "source": [
    "# example of text \n",
    "sample = df['text'][0]\n",
    "sample"
   ]
  },
  {
   "cell_type": "markdown",
   "metadata": {},
   "source": [
    "# Apply NLP\n",
    "\n",
    "-To do later, figure out what unit of analysis works best(lemmas, adjs, keywords, nouns, spacy tokens, etc)"
   ]
  },
  {
   "cell_type": "code",
   "execution_count": 6,
   "metadata": {},
   "outputs": [],
   "source": [
    "# loading small version of english nlp\n",
    "nlp = spacy.load(\"en_core_web_sm\")"
   ]
  },
  {
   "cell_type": "code",
   "execution_count": 7,
   "metadata": {},
   "outputs": [],
   "source": [
    "# load english parser from spacy\n",
    "parser = English()\n",
    "\n",
    "# boiler-plate tokenize function\n",
    "def tokenize(text):\n",
    "    \"\"\"Parses a string into a list of semantic units (words)\n",
    "    Args: text (str): The string that the function will tokenize.\n",
    "    Returns: list: tokens parsed out by the mechanics of your choice\n",
    "    \"\"\"\n",
    "    lda_tokens = []\n",
    "    tokens = nlp(text)\n",
    "\n",
    "    for token in tokens:\n",
    "        if token.orth_.isspace():\n",
    "            continue\n",
    "        elif token.pos_ == 'PROPN':\n",
    "            continue\n",
    "        elif token.like_url:\n",
    "            lda_tokens.append('URL')\n",
    "        elif token.orth_.startswith('@'):\n",
    "            lda_tokens.append('SCREEN_NAME')\n",
    "        else:\n",
    "            lda_tokens.append(token.lower_)\n",
    "    return lda_tokens"
   ]
  },
  {
   "cell_type": "code",
   "execution_count": 8,
   "metadata": {},
   "outputs": [
    {
     "output_type": "execute_result",
     "data": {
      "text/plain": [
       "['police',\n",
       " 'in',\n",
       " 'made',\n",
       " 'several',\n",
       " 'arrests',\n",
       " 'during',\n",
       " 'a',\n",
       " 'protest',\n",
       " 'in',\n",
       " '.']"
      ]
     },
     "metadata": {},
     "execution_count": 8
    }
   ],
   "source": [
    "# sample through function to test outcome\n",
    "tokenize(sample)"
   ]
  },
  {
   "cell_type": "code",
   "execution_count": 9,
   "metadata": {},
   "outputs": [
    {
     "output_type": "stream",
     "name": "stderr",
     "text": [
      "[nltk_data] Downloading package wordnet to C:\\Users\\Josh\n",
      "[nltk_data]     Carlisle\\AppData\\Roaming\\nltk_data...\n",
      "[nltk_data]   Unzipping corpora\\wordnet.zip.\n"
     ]
    }
   ],
   "source": [
    "nltk.download('wordnet')\n",
    "\n",
    "def get_lemma(word):\n",
    "    lemma = wn.morphy(word)\n",
    "    if lemma is None:\n",
    "        return word\n",
    "    else:\n",
    "        return lemma\n",
    "    \n",
    "\n",
    "def get_lemma2(word):\n",
    "    return WordNetLemmatizer().lemmatize(word)"
   ]
  },
  {
   "cell_type": "code",
   "execution_count": 12,
   "metadata": {},
   "outputs": [
    {
     "output_type": "stream",
     "name": "stderr",
     "text": [
      "[nltk_data] Downloading package stopwords to C:\\Users\\Josh\n[nltk_data]     Carlisle\\AppData\\Roaming\\nltk_data...\n[nltk_data]   Unzipping corpora\\stopwords.zip.\n"
     ]
    }
   ],
   "source": [
    "# universal stopwords from nltk\n",
    "nltk.download('stopwords')\n",
    "en_stop = set(nltk.corpus.stopwords.words('english'))"
   ]
  },
  {
   "cell_type": "code",
   "execution_count": 13,
   "metadata": {},
   "outputs": [],
   "source": [
    "# extra stop words that pertains to this model\n",
    "more_stop = ['police', 'officer', 'cop', 'SCREEN_NAME']"
   ]
  },
  {
   "cell_type": "code",
   "execution_count": 14,
   "metadata": {},
   "outputs": [],
   "source": [
    "def prepare_text_for_lda(text):\n",
    "    \"\"\" takes text and tokenizes it, only looks at tweets with more than 4 words and removes stopwords\"\"\"\n",
    "    tokens = tokenize(text)\n",
    "    tokens = [token for token in tokens if len(token) > 4]\n",
    "    tokens = [token for token in tokens if token not in en_stop]\n",
    "    tokens = [get_lemma(token) for token in tokens]\n",
    "    tokens = [token for token in tokens if token not in more_stop]\n",
    "    return tokens"
   ]
  },
  {
   "cell_type": "code",
   "execution_count": 15,
   "metadata": {},
   "outputs": [],
   "source": [
    "# creates column in DF with lemmas\n",
    "df['lemmas'] = df['text'].apply(prepare_text_for_lda)"
   ]
  },
  {
   "cell_type": "code",
   "execution_count": 16,
   "metadata": {},
   "outputs": [
    {
     "output_type": "execute_result",
     "data": {
      "text/plain": [
       "                      ids                                               text  \\\n",
       "0     1266136557871869952  Police in NYC made several arrests during a pr...   \n",
       "1     1266159669262893057  Calls for justice for George Floyd. Protesters...   \n",
       "2     1266555286678048770  NYPD just casually slamming a dude with a car ...   \n",
       "3     1266540710188195843  Update: Got her permission with a fuck yeah. T...   \n",
       "4     1266529475757510656  NYPD officer just called a female protester a ...   \n",
       "...                   ...                                                ...   \n",
       "6555  1364030259171971076  @narsheviking @heghapoghagan @Raz_Libar @n0cla...   \n",
       "6556  1364030261483208710  @Lauren_Southern This is a reminder that the p...   \n",
       "6557  1364030261906857984  @nytimes Pelosi set the attack up days earlier...   \n",
       "6558  1364030277463519234  So i started playing and then some time in Dec...   \n",
       "6559  1364030282026913795  @ljhinco Thank you for missing me. 🤗Those cops...   \n",
       "\n",
       "      reddit                                             lemmas  \n",
       "0          1                         [several, arrest, protest]  \n",
       "1          1          [call, justice, protester, street, rally]  \n",
       "2          1                                   [casually, slam]  \n",
       "3          1                  [update, permission, push, fling]  \n",
       "4          1  [call, female, protester, stupid, fucking, bit...  \n",
       "...      ...                                                ...  \n",
       "6555       0                                   [classic, proxy]  \n",
       "6556       0                  [reminder, follow, order, tyrant]  \n",
       "6557       0       [attack, earlier, capitol, stand, anarchist]  \n",
       "6558       0                     [start, playing, start, faith]  \n",
       "6559       0             [thank, miss, laugh, using, chokehold]  \n",
       "\n",
       "[6539 rows x 4 columns]"
      ],
      "text/html": "<div>\n<style scoped>\n    .dataframe tbody tr th:only-of-type {\n        vertical-align: middle;\n    }\n\n    .dataframe tbody tr th {\n        vertical-align: top;\n    }\n\n    .dataframe thead th {\n        text-align: right;\n    }\n</style>\n<table border=\"1\" class=\"dataframe\">\n  <thead>\n    <tr style=\"text-align: right;\">\n      <th></th>\n      <th>ids</th>\n      <th>text</th>\n      <th>reddit</th>\n      <th>lemmas</th>\n    </tr>\n  </thead>\n  <tbody>\n    <tr>\n      <th>0</th>\n      <td>1266136557871869952</td>\n      <td>Police in NYC made several arrests during a pr...</td>\n      <td>1</td>\n      <td>[several, arrest, protest]</td>\n    </tr>\n    <tr>\n      <th>1</th>\n      <td>1266159669262893057</td>\n      <td>Calls for justice for George Floyd. Protesters...</td>\n      <td>1</td>\n      <td>[call, justice, protester, street, rally]</td>\n    </tr>\n    <tr>\n      <th>2</th>\n      <td>1266555286678048770</td>\n      <td>NYPD just casually slamming a dude with a car ...</td>\n      <td>1</td>\n      <td>[casually, slam]</td>\n    </tr>\n    <tr>\n      <th>3</th>\n      <td>1266540710188195843</td>\n      <td>Update: Got her permission with a fuck yeah. T...</td>\n      <td>1</td>\n      <td>[update, permission, push, fling]</td>\n    </tr>\n    <tr>\n      <th>4</th>\n      <td>1266529475757510656</td>\n      <td>NYPD officer just called a female protester a ...</td>\n      <td>1</td>\n      <td>[call, female, protester, stupid, fucking, bit...</td>\n    </tr>\n    <tr>\n      <th>...</th>\n      <td>...</td>\n      <td>...</td>\n      <td>...</td>\n      <td>...</td>\n    </tr>\n    <tr>\n      <th>6555</th>\n      <td>1364030259171971076</td>\n      <td>@narsheviking @heghapoghagan @Raz_Libar @n0cla...</td>\n      <td>0</td>\n      <td>[classic, proxy]</td>\n    </tr>\n    <tr>\n      <th>6556</th>\n      <td>1364030261483208710</td>\n      <td>@Lauren_Southern This is a reminder that the p...</td>\n      <td>0</td>\n      <td>[reminder, follow, order, tyrant]</td>\n    </tr>\n    <tr>\n      <th>6557</th>\n      <td>1364030261906857984</td>\n      <td>@nytimes Pelosi set the attack up days earlier...</td>\n      <td>0</td>\n      <td>[attack, earlier, capitol, stand, anarchist]</td>\n    </tr>\n    <tr>\n      <th>6558</th>\n      <td>1364030277463519234</td>\n      <td>So i started playing and then some time in Dec...</td>\n      <td>0</td>\n      <td>[start, playing, start, faith]</td>\n    </tr>\n    <tr>\n      <th>6559</th>\n      <td>1364030282026913795</td>\n      <td>@ljhinco Thank you for missing me. 🤗Those cops...</td>\n      <td>0</td>\n      <td>[thank, miss, laugh, using, chokehold]</td>\n    </tr>\n  </tbody>\n</table>\n<p>6539 rows × 4 columns</p>\n</div>"
     },
     "metadata": {},
     "execution_count": 16
    }
   ],
   "source": [
    "# visualize your work\n",
    "df"
   ]
  },
  {
   "cell_type": "markdown",
   "metadata": {},
   "source": [
    "## Topic Modeling w/ Gensim\n",
    "* Learn a Vocabulary\n",
    "* Create a BAs of Words (BoW) representation of reach document\n",
    "* Estimate our LDS model\n",
    "* Clean up results\n",
    "* Add topic information back to dataframe"
   ]
  },
  {
   "cell_type": "code",
   "execution_count": 17,
   "metadata": {},
   "outputs": [],
   "source": [
    "import gensim\n",
    "from gensim import corpora\n",
    "from gensim.models.ldamulticore import LdaMulticore"
   ]
  },
  {
   "cell_type": "code",
   "execution_count": 18,
   "metadata": {},
   "outputs": [],
   "source": [
    "id2word = corpora.Dictionary(df['lemmas'])"
   ]
  },
  {
   "cell_type": "code",
   "execution_count": 19,
   "metadata": {},
   "outputs": [
    {
     "output_type": "execute_result",
     "data": {
      "text/plain": [
       "5557"
      ]
     },
     "metadata": {},
     "execution_count": 19
    }
   ],
   "source": [
    "len(id2word.keys())"
   ]
  },
  {
   "cell_type": "code",
   "execution_count": 20,
   "metadata": {},
   "outputs": [],
   "source": [
    "corpus = [id2word.doc2bow(doc) for doc in df['lemmas']]"
   ]
  },
  {
   "cell_type": "code",
   "execution_count": 21,
   "metadata": {},
   "outputs": [],
   "source": [
    "lda = LdaMulticore(corpus=corpus,\n",
    "                  id2word=id2word,\n",
    "                  num_topics = 5,\n",
    "                  passes = 200,\n",
    "                  workers = 4,\n",
    "                  random_state = 42)"
   ]
  },
  {
   "cell_type": "code",
   "execution_count": 22,
   "metadata": {},
   "outputs": [
    {
     "output_type": "execute_result",
     "data": {
      "text/plain": [
       "[(0,\n",
       "  '0.024*\"would\" + 0.020*\"charge\" + 0.016*\"arrest\" + 0.015*\"could\" + 0.008*\"first\" + 0.007*\"chief\" + 0.006*\"assault\" + 0.006*\"death\" + 0.006*\"want\" + 0.006*\"try\"'),\n",
       " (1,\n",
       "  '0.016*\"attack\" + 0.013*\"kill\" + 0.011*\"protester\" + 0.010*\"arrest\" + 0.009*\"call\" + 0.007*\"please\" + 0.007*\"protest\" + 0.007*\"report\" + 0.007*\"killing\" + 0.007*\"peaceful\"'),\n",
       " (2,\n",
       "  '0.013*\"protest\" + 0.010*\"department\" + 0.010*\"worker\" + 0.009*\"spray\" + 0.008*\"another\" + 0.008*\"arrest\" + 0.007*\"pepper\" + 0.007*\"social\" + 0.007*\"night\" + 0.006*\"custody\"'),\n",
       " (3,\n",
       "  '0.017*\"right\" + 0.015*\"state\" + 0.014*\"people\" + 0.011*\"force\" + 0.008*\"really\" + 0.007*\"found\" + 0.007*\"suspect\" + 0.006*\"shooting\" + 0.006*\"health\" + 0.005*\"public\"'),\n",
       " (4,\n",
       "  '0.032*\"people\" + 0.015*\"black\" + 0.010*\"brutality\" + 0.008*\"murder\" + 0.008*\"crime\" + 0.008*\"death\" + 0.007*\"video\" + 0.007*\"protestors\" + 0.007*\"still\" + 0.007*\"station\"')]"
      ]
     },
     "metadata": {},
     "execution_count": 22
    }
   ],
   "source": [
    "lda.print_topics()"
   ]
  },
  {
   "cell_type": "code",
   "execution_count": 23,
   "metadata": {},
   "outputs": [],
   "source": [
    "import re\n",
    "\n",
    "words = [re.findall(r'\"([^\"]*)\"', t[1]) for t in lda.print_topics()]"
   ]
  },
  {
   "cell_type": "code",
   "execution_count": 24,
   "metadata": {},
   "outputs": [],
   "source": [
    "topics = [' '.join(t[0:5]) for t in words]"
   ]
  },
  {
   "cell_type": "code",
   "execution_count": 25,
   "metadata": {},
   "outputs": [
    {
     "output_type": "stream",
     "name": "stdout",
     "text": [
      "----- Topic 0 ------\nwould charge arrest could first\n\n----- Topic 1 ------\nattack kill protester arrest call\n\n----- Topic 2 ------\nprotest department worker spray another\n\n----- Topic 3 ------\nright state people force really\n\n----- Topic 4 ------\npeople black brutality murder crime\n\n"
     ]
    }
   ],
   "source": [
    "for id, t in enumerate(topics):\n",
    "    print(f\"----- Topic {id} ------\")\n",
    "    print(t, end=\"\\n\\n\")"
   ]
  },
  {
   "cell_type": "markdown",
   "metadata": {},
   "source": [
    "## Analyzing the Rusults of LDA\n",
    "- How good are the topcis themselves:\n",
    "    * Using intertopic distance visualization\n",
    "    * Looking at some fo the token distributions\n",
    "- Using the LDA topics analysis:\n",
    "    * Score each review with a top topic\n",
    "    * Summary visualization of top versus sentiment"
   ]
  },
  {
   "cell_type": "code",
   "execution_count": 26,
   "metadata": {},
   "outputs": [],
   "source": [
    "import pyLDAvis.gensim\n",
    "import warnings\n",
    "\n",
    "warnings.filterwarnings(\"ignore\")\n",
    "\n",
    "pyLDAvis.enable_notebook()"
   ]
  },
  {
   "cell_type": "code",
   "execution_count": 27,
   "metadata": {},
   "outputs": [
    {
     "output_type": "execute_result",
     "data": {
      "text/plain": [
       "PreparedData(topic_coordinates=              x         y  topics  cluster       Freq\n",
       "topic                                                \n",
       "4     -0.158877  0.062773       1        1  22.449055\n",
       "1     -0.021709 -0.139171       2        1  20.602962\n",
       "0     -0.050378 -0.053545       3        1  19.569518\n",
       "2      0.163996 -0.045836       4        1  18.749517\n",
       "3      0.066968  0.175778       5        1  18.628948, topic_info=       Term        Freq       Total Category  logprob  loglift\n",
       "77   people  274.000000  274.000000  Default  30.0000  30.0000\n",
       "81   charge  111.000000  111.000000  Default  29.0000  29.0000\n",
       "245   would  180.000000  180.000000  Default  28.0000  28.0000\n",
       "358   right   90.000000   90.000000  Default  27.0000  27.0000\n",
       "183  attack   90.000000   90.000000  Default  26.0000  26.0000\n",
       "..      ...         ...         ...      ...      ...      ...\n",
       "83    still   21.004756   81.826089   Topic5  -5.5106   0.3206\n",
       "113     try   21.282254   88.471235   Topic5  -5.4975   0.2556\n",
       "98    death   19.392133  111.053674   Topic5  -5.5905  -0.0647\n",
       "90    think   18.197014   81.005925   Topic5  -5.6541   0.1872\n",
       "0    arrest   17.476614  218.428080   Topic5  -5.6945  -0.8451\n",
       "\n",
       "[308 rows x 6 columns], token_table=      Topic      Freq        Term\n",
       "term                             \n",
       "1635      4  0.977714       .....\n",
       "2657      2  0.898612    12/12/12\n",
       "3958      2  0.898612   2/22/2021\n",
       "2715      3  0.981316     75-year\n",
       "1507      1  0.798393     abolish\n",
       "...     ...       ...         ...\n",
       "245       3  0.715867       would\n",
       "2066      3  0.959501  wrongdoing\n",
       "1426      1  0.199677       years\n",
       "1426      3  0.199677       years\n",
       "1426      5  0.599032       years\n",
       "\n",
       "[435 rows x 3 columns], R=30, lambda_step=0.01, plot_opts={'xlab': 'PC1', 'ylab': 'PC2'}, topic_order=[5, 2, 1, 3, 4])"
      ],
      "text/html": "\n<link rel=\"stylesheet\" type=\"text/css\" href=\"https://cdn.rawgit.com/bmabey/pyLDAvis/files/ldavis.v1.0.0.css\">\n\n\n<div id=\"ldavis_el1309621657231163603813903689\"></div>\n<script type=\"text/javascript\">\n\nvar ldavis_el1309621657231163603813903689_data = {\"mdsDat\": {\"x\": [-0.15887730550444973, -0.02170852390886052, -0.050377753581207885, 0.16399597423950155, 0.06696760875501671], \"y\": [0.0627731952259262, -0.13917076872720613, -0.05354487231234672, -0.04583567988111526, 0.17577812569474185], \"topics\": [1, 2, 3, 4, 5], \"cluster\": [1, 1, 1, 1, 1], \"Freq\": [22.44905528961723, 20.602961980693, 19.5695177586738, 18.749517309154985, 18.628947661860984]}, \"tinfo\": {\"Term\": [\"people\", \"charge\", \"would\", \"right\", \"attack\", \"state\", \"could\", \"protest\", \"kill\", \"brutality\", \"black\", \"worker\", \"spray\", \"department\", \"please\", \"killing\", \"legal\", \"first\", \"call\", \"force\", \"basis\", \"pepper\", \"night\", \"assault\", \"another\", \"bullet\", \"murder\", \"arrest\", \"fault\", \"social\", \"brutality\", \"legal\", \"basis\", \"bullet\", \"find\", \"frisk\", \"rubber\", \"towards\", \"beating\", \"stand\", \"choke\", \"letter\", \"adult\", \"flag\", \"showing\", \"rioter\", \"inject\", \"restrain\", \"direct\", \"seeing\", \"portlandprotest\", \"fully\", \"treat\", \"settlement\", \"defunding\", \"parking\", \"work\", \"grammar\", \"bodycam\", \"assume\", \"crowd\", \"order\", \"family\", \"people\", \"reason\", \"protestors\", \"crime\", \"abolish\", \"black\", \"station\", \"white\", \"commit\", \"murder\", \"never\", \"still\", \"threaten\", \"death\", \"think\", \"video\", \"going\", \"kill\", \"someone\", \"peaceful\", \"investigation\", \"would\", \"attack\", \"please\", \"killing\", \"fault\", \"overall\", \"guess\", \"party\", \"motel\", \"rescue\", \"online\", \"father\", \"surround\", \"brutal\", \"activity\", \"player\", \"judge\", \"deputy\", \"participate\", \"servant\", \"gender\", \"recount\", \"sheriff\", \"arrive\", \"horrifically\", \"delay\", \"12/12/12\", \"2/22/2021\", \"explode\", \"device\", \"insurrection\", \"treatment\", \"victim\", \"miss\", \"catch\", \"kill\", \"journalist\", \"criminal\", \"call\", \"protester\", \"racist\", \"calling\", \"though\", \"look\", \"peaceful\", \"fire\", \"unarm\", \"arrest\", \"report\", \"protest\", \"investigation\", \"tonight\", \"walking\", \"black\", \"woman\", \"video\", \"chief\", \"would\", \"could\", \"assault\", \"paramedic\", \"stop\", \"three\", \"charge\", \"push\", \"investigating\", \"receive\", \"capital\", \"tryna\", \"digital\", \"accuse\", \"file\", \"driving\", \"campus\", \"wrongdoing\", \"innovation\", \"corrupt\", \"general\", \"surprise\", \"75-year\", \"wanna\", \"talk\", \"shame\", \"courthouse\", \"offend\", \"viral\", \"cross\", \"demand\", \"first\", \"allow\", \"would\", \"want\", \"pull\", \"mayor\", \"independent\", \"show\", \"chief\", \"arrest\", \"defund\", \"actually\", \"former\", \"watch\", \"protect\", \"probe\", \"try\", \"person\", \"death\", \"protester\", \"always\", \"black\", \"video\", \"anyone\", \"worker\", \"spray\", \"custody\", \"hours\", \"phone\", \"least\", \"female\", \"horny\", \"prison\", \"truck\", \"kneel\", \"movie\", \"witness\", \"remove\", \"serious\", \"sidewalk\", \"helicopter\", \".....\", \"apprehend\", \"means\", \"nearly\", \"spot\", \"buddy\", \"fighting\", \"circle\", \"escort\", \"surly\", \"helping\", \"argument\", \"save\", \"social\", \"department\", \"control\", \"pepper\", \"nothing\", \"better\", \"thing\", \"protest\", \"another\", \"believe\", \"night\", \"need\", \"fucking\", \"thought\", \"remember\", \"involve\", \"detain\", \"arrest\", \"call\", \"woman\", \"murder\", \"report\", \"video\", \"shooting\", \"protester\", \"right\", \"state\", \"reform\", \"check\", \"alive\", \"break\", \"current\", \"uniform\", \"speak\", \"shootout\", \"database\", \"drug\", \"kidnapping\", \"track\", \"covering\", \"nigga\", \"contact\", \"message\", \"bypass\", \"experience\", \"inaction\", \"seize\", \"together\", \"firearm\", \"instant\", \"commissioner\", \"anybody\", \"trooper\", \"lying\", \"municipal\", \"power\", \"driver\", \"funding\", \"found\", \"force\", \"close\", \"health\", \"public\", \"suspect\", \"really\", \"asking\", \"friend\", \"years\", \"people\", \"shooting\", \"government\", \"every\", \"problem\", \"military\", \"running\", \"mental\", \"murder\", \"still\", \"try\", \"death\", \"think\", \"arrest\"], \"Freq\": [274.0, 111.0, 180.0, 90.0, 90.0, 80.0, 82.0, 109.0, 111.0, 65.0, 144.0, 52.0, 49.0, 64.0, 42.0, 40.0, 41.0, 53.0, 85.0, 90.0, 40.0, 53.0, 57.0, 35.0, 65.0, 38.0, 102.0, 218.0, 35.0, 41.0, 64.53710008772994, 41.12815634791193, 39.4603715468766, 37.785710502794075, 31.93395479719185, 31.099673257866723, 30.26078326569818, 29.424773192194593, 22.73402547301363, 21.06079855846871, 17.721594079297645, 16.049044878406168, 15.211881962967368, 14.377392008475699, 14.376298921937886, 13.540562848793112, 11.86665749187039, 11.034776370582298, 11.033206698314, 11.032172638449229, 11.031914670026305, 10.199104425181075, 10.195460074664007, 10.191659048409855, 23.40449269143603, 9.3595505651219, 9.359467490545025, 8.523634497060565, 7.690408879330964, 7.688678887703786, 38.00312978751113, 28.843047111257963, 39.67516450900547, 201.9530254848007, 34.78350314578187, 41.86350918321888, 47.91958462446901, 28.01940786246498, 91.25576703406983, 41.35641905108408, 37.05198418025539, 14.931916266556685, 52.700867566553015, 36.10091144543551, 41.732388351937765, 25.589234552420805, 47.64848458860434, 38.264508640432844, 46.8310511564487, 35.829073940520004, 38.137130537457196, 28.532668832467902, 29.933291624072126, 28.178290176909098, 28.658813933828895, 90.31383237133761, 41.897363927749126, 39.39341949793169, 35.222065683279645, 26.041817137003473, 25.202328680647927, 17.691885153159504, 16.860847626628615, 16.858798429969646, 15.190429988996343, 14.353434811082257, 13.519568269581574, 13.519399732519545, 13.516117272597146, 12.685608096379765, 12.68545293527504, 12.68106562127933, 11.849871596047986, 11.847920043877334, 11.017543958435127, 11.017308541586578, 11.015375715756152, 11.014664114827578, 10.181724527168063, 10.178827294816019, 9.348342864119651, 9.348337513736729, 9.347993751634016, 9.347563714606693, 9.343477359650326, 29.391282579920556, 32.24677391960139, 26.855094067426126, 25.195597898932558, 72.4376198385505, 20.904507864878145, 31.2454631317822, 48.87099149835235, 63.38909504461254, 24.900676766719865, 26.677474730386482, 21.382524451050738, 24.092375692414294, 38.30192533077756, 24.844816093826953, 21.938952236535037, 60.23596992857777, 39.70292844918011, 40.20486659739516, 30.509317321557255, 20.78850219996785, 26.018144367766876, 33.44179532109692, 27.251632347277216, 28.70886263980281, 23.02327287778704, 22.12887344150716, 81.87463708405575, 34.344633096418875, 29.344402419637824, 25.1774177426271, 24.33668848636335, 108.50272665974848, 21.840457072438088, 16.83831174921636, 16.83615824840883, 16.006727565998393, 15.173715338587117, 15.173071194097783, 14.339285230998136, 14.337388371584778, 14.336938613894002, 12.667483803802815, 11.838741733450009, 11.005480487656268, 11.004108345548815, 10.167912240247466, 9.332296119086905, 8.504063520016588, 8.500547405866241, 8.49940522461198, 8.498419315097737, 8.49646782410047, 6.834082086866568, 6.831781843083657, 6.000240221681062, 5.997823091718628, 41.90869097294456, 21.28714966112134, 129.07059815764103, 32.20184516134228, 23.53785022043936, 17.154398659189614, 20.639313093118645, 27.119463828387236, 37.45982765100056, 89.080075456783, 30.625482570230062, 21.092320727886435, 26.352228028001008, 27.356918102089775, 22.661836583982847, 22.391600818931693, 30.955213400658813, 23.531939845361702, 32.35096905737948, 26.386651007870757, 18.06646278851555, 19.49458448244674, 18.914949729694214, 17.320206786851887, 51.67890348655471, 49.18438082509094, 32.5680935909146, 26.751534156433788, 25.91829889714849, 22.59480870915442, 20.932416029924738, 20.103421723553993, 17.606479138326122, 15.948832577183072, 15.119624032088744, 15.116640514409765, 13.455756027103483, 13.454684833485572, 13.454034813721977, 12.6275103389998, 12.6259924089526, 12.624112951059356, 10.133738121701304, 10.131945698289515, 9.299582001084246, 8.473691113041754, 8.472598008645296, 8.4687642310321, 6.811544930070741, 6.808330131951531, 5.981850087419189, 5.980961483622512, 5.980069836662148, 5.979993757569967, 36.26041034874129, 53.405093049323874, 19.282505190874677, 38.844170742169936, 28.160555461594104, 18.308260681711555, 26.537227265984896, 69.15598243583713, 44.34858922545324, 20.640902859464877, 36.12931816068747, 22.96141011769893, 24.66662619633557, 24.809012173465504, 20.4013243204916, 23.9062734900944, 15.990816063412353, 40.600516839814254, 27.70004689072301, 28.27669232602331, 26.629960984393684, 26.501072046849433, 27.17360635266946, 23.392621543120146, 21.260775826309807, 90.30081507127119, 79.45274344155403, 25.203012150077353, 21.862336944235803, 20.194638334577988, 25.798362741125388, 16.857333831863787, 16.019599812845772, 15.184888178870903, 14.355344472582853, 14.353074357846564, 12.68180065007449, 11.850583081881792, 11.849519986062294, 11.83815489912734, 11.014294341025664, 11.013679946627137, 11.01235682168228, 10.182065682838541, 10.175745160935588, 9.3474290340068, 8.511026001279292, 8.509133231134225, 7.678071075697847, 7.677505058811016, 7.675164191963873, 7.673455861082142, 6.84216451718411, 6.840857719649449, 6.840495493030632, 21.43864185905963, 19.38111121297437, 10.90131833796428, 35.41510091667383, 56.73091469241538, 19.366395983354536, 31.01969194423065, 27.618506146760968, 34.8465417916025, 40.161498411966726, 17.37868255270974, 22.259279265444626, 24.31580728760001, 72.48039262152304, 32.60284117669907, 24.712149727663814, 27.318567993127417, 16.453711785727673, 20.882975340855022, 14.97373001582447, 16.782837301604623, 22.96104103121703, 21.004756051044904, 21.28225429587872, 19.39213281957629, 18.197013561224676, 17.476614359071764], \"Total\": [274.0, 111.0, 180.0, 90.0, 90.0, 80.0, 82.0, 109.0, 111.0, 65.0, 144.0, 52.0, 49.0, 64.0, 42.0, 40.0, 41.0, 53.0, 85.0, 90.0, 40.0, 53.0, 57.0, 35.0, 65.0, 38.0, 102.0, 218.0, 35.0, 41.0, 65.20893966694977, 41.79942073004895, 40.12790902658062, 38.45539850063472, 32.60306368922015, 31.76727513935271, 30.930786713790724, 30.094769018460642, 23.405898423888843, 21.73354013159378, 18.3901653344461, 16.71793190901989, 15.881742807034087, 15.045614087256089, 15.045720924572473, 14.209691072122306, 12.53726188108922, 11.701899560746945, 11.701626468932645, 11.701451189943649, 11.701472785511372, 10.865943204655506, 10.865331911154579, 10.864727152083029, 25.0711252219747, 10.02924887749521, 10.029253692382722, 9.192973429828319, 8.357622448803681, 8.35728135564423, 42.6282244748855, 33.43176431893281, 46.77534261070209, 274.9380148068172, 42.6150307106418, 52.651495427796256, 63.50660883605922, 35.070440377421434, 144.52885174948608, 60.16151252279228, 55.95657976014521, 17.549888401016673, 102.628489065928, 61.76648932920962, 81.82608877741828, 38.421618634718634, 111.05367358003824, 81.00592531029578, 121.79684446321832, 75.92396606792197, 111.07781279416812, 60.96280379168187, 80.95747412334686, 69.31290530035855, 180.2011070371622, 90.98490056456357, 42.56955421504169, 40.06528064330939, 35.89199271231358, 26.71012082381794, 25.87459342070554, 18.362251040635435, 17.528095775671297, 17.52780184570765, 15.858458822992171, 15.023386462037873, 14.188764478296854, 14.188736702159321, 14.188224513165583, 13.354000347849368, 13.354065040190358, 13.353413574988117, 12.51925240690463, 12.518998646426828, 11.684893983272605, 11.684706188266697, 11.684507256459174, 11.684317435790698, 10.849981417025434, 10.849507856451032, 10.015447159744156, 10.015442472112051, 10.015390919894859, 10.015317848610945, 10.014552857726745, 33.386784456231695, 37.55980742842343, 31.71702251049237, 30.876819110201833, 111.07781279416812, 25.854516492380633, 45.87678761669024, 85.83850660618064, 125.9389812842516, 35.87062744020462, 44.20497370144032, 31.68667048871885, 38.39239454379828, 80.95747412334686, 42.55932706158192, 35.076309852099726, 218.42808048159182, 103.39641126641565, 109.86604416235272, 69.31290530035855, 32.51607971228825, 58.4331273628769, 144.52885174948608, 95.86581943057682, 121.79684446321832, 66.7432292055597, 180.2011070371622, 82.54577041435917, 35.01824075757024, 30.015794174630862, 25.847018243809725, 25.012414545843058, 111.73121581503754, 22.511614549599077, 17.508753933756974, 17.508477724002613, 16.67537148465151, 15.841586104446677, 15.84160902366561, 15.007792181418187, 15.007525790233547, 15.007381636781192, 13.33948575271273, 12.506495129724508, 11.672777166969556, 11.672477479650793, 10.838327183987106, 10.004195826122004, 9.17135784494547, 9.170674644120817, 9.170597783669674, 9.170355095398763, 9.170314094256328, 7.503110783804941, 7.5030099484629496, 6.66944165909299, 6.66922459831864, 53.324316007417, 25.832571908344974, 180.2011070371622, 41.69788269336728, 30.021879768032747, 20.83445018646993, 27.530769781562178, 40.88971330084628, 66.7432292055597, 218.42808048159182, 55.0787852292993, 32.539934622549815, 49.21267465764063, 52.55807597104795, 38.38530143194981, 40.03772539258941, 88.47123515811428, 50.01662115146556, 111.05367358003824, 125.9389812842516, 34.179758109151436, 144.52885174948608, 121.79684446321832, 42.54804200547008, 52.35003233891496, 49.85701702982826, 33.23875338636097, 27.422237578030288, 26.591073261649427, 23.26734495499689, 21.605408599394135, 20.77465358397745, 18.28127161404744, 16.62014590956364, 15.789506940248733, 15.789228894109506, 14.127348033745037, 14.127138335854747, 14.12705204344288, 13.296807649265787, 13.29658818044905, 13.296318026089372, 10.803953028767177, 10.80362099173862, 9.972516079883926, 9.142310353370545, 9.142104125204368, 9.141467486449002, 7.4804432389240425, 7.47998836739523, 6.64972630734231, 6.649514470491071, 6.649451920079834, 6.649482173194927, 41.57583707006823, 64.01639506173619, 24.111975595221, 53.264458344825066, 37.43139364187589, 23.285890362409365, 35.77844602097043, 109.86604416235272, 65.72975234900298, 27.442248817799992, 57.42897146394939, 34.11308406532732, 38.29629196207274, 44.94646723659282, 32.45234663824898, 46.648077020500075, 20.793023139067984, 218.42808048159182, 85.83850660618064, 95.86581943057682, 102.628489065928, 103.39641126641565, 121.79684446321832, 71.6978737349961, 125.9389812842516, 90.9747843862466, 80.12471923548466, 25.872529945970246, 22.53349282190739, 20.864494355914807, 26.705452096417165, 17.526131417119885, 16.6909304343786, 15.856257561042092, 15.022468876834106, 15.022108773340879, 13.352463111382896, 12.51837334986546, 12.518227107886903, 12.516473475507526, 11.683263566136265, 11.68318688240399, 11.683130111232936, 10.849188721739793, 10.848077119018072, 10.014549217990325, 9.179583254418054, 9.179158614729932, 8.345197223629215, 8.344784311066375, 8.344479312376214, 8.344335331277097, 7.510356197350205, 7.510131395999869, 7.510091998588214, 24.192883031469265, 23.367372209430652, 12.515922183494606, 48.40431646656788, 90.89410918466088, 25.84533849045881, 47.51711341722962, 41.720968312179124, 57.60030702076088, 71.72267075565131, 23.361897624309687, 33.400887212629755, 40.06460770048976, 274.9380148068172, 71.6978737349961, 48.394997738297434, 65.88383557810673, 24.2138927129327, 42.57469754827868, 22.531765900744247, 33.320749037122226, 102.628489065928, 81.82608877741828, 88.47123515811428, 111.05367358003824, 81.00592531029578, 218.42808048159182], \"Category\": [\"Default\", \"Default\", \"Default\", \"Default\", \"Default\", \"Default\", \"Default\", \"Default\", \"Default\", \"Default\", \"Default\", \"Default\", \"Default\", \"Default\", \"Default\", \"Default\", \"Default\", \"Default\", \"Default\", \"Default\", \"Default\", \"Default\", \"Default\", \"Default\", \"Default\", \"Default\", \"Default\", \"Default\", \"Default\", \"Default\", \"Topic1\", \"Topic1\", \"Topic1\", \"Topic1\", \"Topic1\", \"Topic1\", \"Topic1\", \"Topic1\", \"Topic1\", \"Topic1\", \"Topic1\", \"Topic1\", \"Topic1\", \"Topic1\", \"Topic1\", \"Topic1\", \"Topic1\", \"Topic1\", \"Topic1\", \"Topic1\", \"Topic1\", \"Topic1\", \"Topic1\", \"Topic1\", \"Topic1\", \"Topic1\", \"Topic1\", \"Topic1\", \"Topic1\", \"Topic1\", \"Topic1\", \"Topic1\", \"Topic1\", \"Topic1\", \"Topic1\", \"Topic1\", \"Topic1\", \"Topic1\", \"Topic1\", \"Topic1\", \"Topic1\", \"Topic1\", \"Topic1\", \"Topic1\", \"Topic1\", \"Topic1\", \"Topic1\", \"Topic1\", \"Topic1\", \"Topic1\", \"Topic1\", \"Topic1\", \"Topic1\", \"Topic1\", \"Topic1\", \"Topic2\", \"Topic2\", \"Topic2\", \"Topic2\", \"Topic2\", \"Topic2\", \"Topic2\", \"Topic2\", \"Topic2\", \"Topic2\", \"Topic2\", \"Topic2\", \"Topic2\", \"Topic2\", \"Topic2\", \"Topic2\", \"Topic2\", \"Topic2\", \"Topic2\", \"Topic2\", \"Topic2\", \"Topic2\", \"Topic2\", \"Topic2\", \"Topic2\", \"Topic2\", \"Topic2\", \"Topic2\", \"Topic2\", \"Topic2\", \"Topic2\", \"Topic2\", \"Topic2\", \"Topic2\", \"Topic2\", \"Topic2\", \"Topic2\", \"Topic2\", \"Topic2\", \"Topic2\", \"Topic2\", \"Topic2\", \"Topic2\", \"Topic2\", \"Topic2\", \"Topic2\", \"Topic2\", \"Topic2\", \"Topic2\", \"Topic2\", \"Topic2\", \"Topic2\", \"Topic2\", \"Topic2\", \"Topic2\", \"Topic2\", \"Topic2\", \"Topic3\", \"Topic3\", \"Topic3\", \"Topic3\", \"Topic3\", \"Topic3\", \"Topic3\", \"Topic3\", \"Topic3\", \"Topic3\", \"Topic3\", \"Topic3\", \"Topic3\", \"Topic3\", \"Topic3\", \"Topic3\", \"Topic3\", \"Topic3\", \"Topic3\", \"Topic3\", \"Topic3\", \"Topic3\", \"Topic3\", \"Topic3\", \"Topic3\", \"Topic3\", \"Topic3\", \"Topic3\", \"Topic3\", \"Topic3\", \"Topic3\", \"Topic3\", \"Topic3\", \"Topic3\", \"Topic3\", \"Topic3\", \"Topic3\", \"Topic3\", \"Topic3\", \"Topic3\", \"Topic3\", \"Topic3\", \"Topic3\", \"Topic3\", \"Topic3\", \"Topic3\", \"Topic3\", \"Topic3\", \"Topic3\", \"Topic3\", \"Topic3\", \"Topic3\", \"Topic3\", \"Topic3\", \"Topic4\", \"Topic4\", \"Topic4\", \"Topic4\", \"Topic4\", \"Topic4\", \"Topic4\", \"Topic4\", \"Topic4\", \"Topic4\", \"Topic4\", \"Topic4\", \"Topic4\", \"Topic4\", \"Topic4\", \"Topic4\", \"Topic4\", \"Topic4\", \"Topic4\", \"Topic4\", \"Topic4\", \"Topic4\", \"Topic4\", \"Topic4\", \"Topic4\", \"Topic4\", \"Topic4\", \"Topic4\", \"Topic4\", \"Topic4\", \"Topic4\", \"Topic4\", \"Topic4\", \"Topic4\", \"Topic4\", \"Topic4\", \"Topic4\", \"Topic4\", \"Topic4\", \"Topic4\", \"Topic4\", \"Topic4\", \"Topic4\", \"Topic4\", \"Topic4\", \"Topic4\", \"Topic4\", \"Topic4\", \"Topic4\", \"Topic4\", \"Topic4\", \"Topic4\", \"Topic4\", \"Topic4\", \"Topic4\", \"Topic5\", \"Topic5\", \"Topic5\", \"Topic5\", \"Topic5\", \"Topic5\", \"Topic5\", \"Topic5\", \"Topic5\", \"Topic5\", \"Topic5\", \"Topic5\", \"Topic5\", \"Topic5\", \"Topic5\", \"Topic5\", \"Topic5\", \"Topic5\", \"Topic5\", \"Topic5\", \"Topic5\", \"Topic5\", \"Topic5\", \"Topic5\", \"Topic5\", \"Topic5\", \"Topic5\", \"Topic5\", \"Topic5\", \"Topic5\", \"Topic5\", \"Topic5\", \"Topic5\", \"Topic5\", \"Topic5\", \"Topic5\", \"Topic5\", \"Topic5\", \"Topic5\", \"Topic5\", \"Topic5\", \"Topic5\", \"Topic5\", \"Topic5\", \"Topic5\", \"Topic5\", \"Topic5\", \"Topic5\", \"Topic5\", \"Topic5\", \"Topic5\", \"Topic5\", \"Topic5\", \"Topic5\", \"Topic5\", \"Topic5\", \"Topic5\"], \"logprob\": [30.0, 29.0, 28.0, 27.0, 26.0, 25.0, 24.0, 23.0, 22.0, 21.0, 20.0, 19.0, 18.0, 17.0, 16.0, 15.0, 14.0, 13.0, 12.0, 11.0, 10.0, 9.0, 8.0, 7.0, 6.0, 5.0, 4.0, 3.0, 2.0, 1.0, -4.5746002197265625, -5.025199890136719, -5.0665998458862305, -5.110000133514404, -5.278200149536133, -5.304699897766113, -5.331999778747559, -5.360000133514404, -5.618000030517578, -5.694499969482422, -5.867099761962891, -5.96619987487793, -6.019800186157227, -6.076200008392334, -6.076300144195557, -6.136199951171875, -6.268199920654297, -6.340799808502197, -6.341000080108643, -6.341100215911865, -6.341100215911865, -6.419600009918213, -6.419899940490723, -6.420300006866455, -5.589000225067139, -6.505499839782715, -6.505499839782715, -6.598999977111816, -6.701900005340576, -6.702099800109863, -5.1041998863220215, -5.380000114440918, -5.061200141906738, -3.4339001178741455, -5.192699909210205, -5.007500171661377, -4.872399806976318, -5.408999919891357, -4.2281999588012695, -5.019700050354004, -5.1296000480651855, -6.038400173187256, -4.777299880981445, -5.155600070953369, -5.0106000900268555, -5.49970006942749, -4.877999782562256, -5.097400188446045, -4.895299911499023, -5.163099765777588, -5.1006999015808105, -5.3907999992370605, -5.342899799346924, -5.403299808502197, -5.38640022277832, -4.1528000831604, -4.920899868011475, -4.982500076293945, -5.094399929046631, -5.396399974822998, -5.429100036621094, -5.7829999923706055, -5.831099987030029, -5.831200122833252, -5.935400009155273, -5.992099761962891, -6.0518999099731445, -6.0518999099731445, -6.052199840545654, -6.115600109100342, -6.115600109100342, -6.116000175476074, -6.183800220489502, -6.183899879455566, -6.2565999031066895, -6.2565999031066895, -6.256800174713135, -6.256800174713135, -6.3354997634887695, -6.3358001708984375, -6.420899868011475, -6.420899868011475, -6.420899868011475, -6.421000003814697, -6.42140007019043, -5.275400161743164, -5.182700157165527, -5.365600109100342, -5.4293999671936035, -4.373300075531006, -5.616099834442139, -5.214200019836426, -4.766900062561035, -4.506800174713135, -5.441199779510498, -5.372300148010254, -5.593500137329102, -5.4741997718811035, -5.0106000900268555, -5.443399906158447, -5.567800045013428, -4.557799816131592, -4.974599838256836, -4.962100028991699, -5.23799991607666, -5.621699810028076, -5.397299766540527, -5.146299839019775, -5.35099983215332, -5.298900127410889, -5.519599914550781, -5.559199810028076, -4.199399948120117, -5.06820011138916, -5.225500106811523, -5.378699779510498, -5.412600040435791, -3.917799949645996, -5.5208001136779785, -5.781000137329102, -5.781099796295166, -5.831600189208984, -5.885000228881836, -5.8850998878479, -5.9415998458862305, -5.941699981689453, -5.941800117492676, -6.0655999183654785, -6.133200168609619, -6.206200122833252, -6.206299781799316, -6.285399913787842, -6.371099948883057, -6.464099884033203, -6.4644999504089355, -6.464600086212158, -6.464700222015381, -6.465000152587891, -6.682700157165527, -6.683000087738037, -6.81279993057251, -6.813199996948242, -4.869100093841553, -5.546500205993652, -3.74429988861084, -5.132599830627441, -5.446000099182129, -5.762400150299072, -5.577400207519531, -5.3043999671936035, -4.981299877166748, -4.115099906921387, -5.182799816131592, -5.555699825286865, -5.333099842071533, -5.295599937438965, -5.48390007019043, -5.4959001541137695, -5.172100067138672, -5.446300029754639, -5.127999782562256, -5.3317999839782715, -5.710599899291992, -5.634500026702881, -5.664700031280518, -5.752699851989746, -4.616799831390381, -4.666200160980225, -5.078499794006348, -5.275199890136719, -5.3069000244140625, -5.4440999031066895, -5.520500183105469, -5.5609002113342285, -5.69350004196167, -5.792399883270264, -5.845799922943115, -5.8460001945495605, -5.962399959564209, -5.962500095367432, -5.962500095367432, -6.025899887084961, -6.026000022888184, -6.026199817657471, -6.2459001541137695, -6.246099948883057, -6.3317999839782715, -6.424799919128418, -6.425000190734863, -6.4253997802734375, -6.643199920654297, -6.643700122833252, -6.773099899291992, -6.773200035095215, -6.773399829864502, -6.773399829864502, -4.971099853515625, -4.583899974822998, -5.60260009765625, -4.902200222015381, -5.223899841308594, -5.6545000076293945, -5.283299922943115, -4.325399875640869, -4.769700050354004, -5.5345001220703125, -4.974699974060059, -5.427999973297119, -5.356400012969971, -5.350599765777588, -5.546199798583984, -5.387700080871582, -5.78980016708374, -4.857999801635742, -5.2403998374938965, -5.219799995422363, -5.279799938201904, -5.284599781036377, -5.2596001625061035, -5.40939998626709, -5.504899978637695, -4.052199840545654, -4.180200099945068, -5.328400135040283, -5.470600128173828, -5.549900054931641, -5.304999828338623, -5.730599880218506, -5.781499862670898, -5.835100173950195, -5.891200065612793, -5.89139986038208, -6.015200138092041, -6.083000183105469, -6.083099842071533, -6.084000110626221, -6.156199932098389, -6.156199932098389, -6.156300067901611, -6.2347002029418945, -6.235300064086914, -6.320300102233887, -6.414000034332275, -6.4141998291015625, -6.517000198364258, -6.517099857330322, -6.517399787902832, -6.517600059509277, -6.632299900054932, -6.632400035858154, -6.632500171661377, -5.490200042724609, -5.591100215911865, -6.166500091552734, -4.9882001876831055, -4.517000198364258, -5.591800212860107, -5.120699882507324, -5.2368998527526855, -5.00439977645874, -4.862400054931641, -5.700099945068359, -5.452600002288818, -5.364200115203857, -4.271999835968018, -5.071000099182129, -5.348100185394287, -5.247799873352051, -5.754799842834473, -5.51639986038208, -5.849100112915039, -5.735000133514404, -5.421599864959717, -5.5106000900268555, -5.497499942779541, -5.5904998779296875, -5.654099941253662, -5.694499969482422], \"loglift\": [30.0, 29.0, 28.0, 27.0, 26.0, 25.0, 24.0, 23.0, 22.0, 21.0, 20.0, 19.0, 18.0, 17.0, 16.0, 15.0, 14.0, 13.0, 12.0, 11.0, 10.0, 9.0, 8.0, 7.0, 6.0, 5.0, 4.0, 3.0, 2.0, 1.0, 1.4836, 1.4777, 1.4771, 1.4764, 1.4732, 1.4727, 1.472, 1.4714, 1.4648, 1.4625, 1.4569, 1.4531, 1.4508, 1.4485, 1.4484, 1.4457, 1.4389, 1.4352, 1.4351, 1.435, 1.435, 1.4306, 1.4303, 1.43, 1.4251, 1.4248, 1.4248, 1.4183, 1.4107, 1.4105, 1.3791, 1.3463, 1.3293, 1.1854, 1.2909, 1.2646, 1.2123, 1.2695, 1.0341, 1.1191, 1.0817, 1.3324, 0.8274, 0.9569, 0.8206, 1.0875, 0.6478, 0.7439, 0.5381, 0.7429, 0.4249, 0.7347, 0.499, 0.5938, -0.3447, 1.5723, 1.5638, 1.5628, 1.5609, 1.5544, 1.5534, 1.5425, 1.5409, 1.5408, 1.5367, 1.5341, 1.5314, 1.5314, 1.5312, 1.5284, 1.5284, 1.5281, 1.5248, 1.5246, 1.5209, 1.5209, 1.5208, 1.5207, 1.5162, 1.5159, 1.5108, 1.5108, 1.5108, 1.5107, 1.5104, 1.4523, 1.4272, 1.4133, 1.3764, 1.1522, 1.3672, 1.1957, 1.0165, 0.8932, 1.2147, 1.0747, 1.1864, 1.1138, 0.8313, 1.0415, 1.1105, 0.2915, 0.6226, 0.5745, 0.7591, 1.1324, 0.7706, 0.1161, 0.3219, 0.1346, 0.5154, -0.5175, 1.623, 1.6118, 1.6086, 1.6049, 1.6038, 1.6019, 1.6009, 1.5922, 1.592, 1.5903, 1.5881, 1.5881, 1.5856, 1.5855, 1.5855, 1.5795, 1.5763, 1.5723, 1.5722, 1.5673, 1.5617, 1.5557, 1.5553, 1.5552, 1.5551, 1.5549, 1.5378, 1.5375, 1.5255, 1.5251, 1.3903, 1.4377, 1.2975, 1.3728, 1.3879, 1.4368, 1.3431, 1.2206, 1.0536, 0.7343, 1.0443, 1.1976, 1.0066, 0.9782, 1.1042, 1.0501, 0.5811, 0.8772, 0.3978, 0.0683, 0.9936, -0.3721, -0.2312, 0.7324, 1.6611, 1.6604, 1.6536, 1.6492, 1.6484, 1.6447, 1.6424, 1.6412, 1.6364, 1.6328, 1.6307, 1.6305, 1.6253, 1.6252, 1.6252, 1.6224, 1.6223, 1.6221, 1.61, 1.6098, 1.6041, 1.5981, 1.5979, 1.5976, 1.5803, 1.5799, 1.5682, 1.568, 1.5679, 1.5679, 1.5372, 1.4928, 1.4505, 1.3583, 1.3894, 1.4335, 1.3752, 1.2111, 1.2805, 1.3892, 1.2106, 1.2781, 1.2341, 1.0797, 1.2098, 1.0055, 1.4114, -0.0087, 0.543, 0.4531, 0.3249, 0.3126, 0.1739, 0.554, -0.1049, 1.673, 1.672, 1.6542, 1.6502, 1.6478, 1.6459, 1.6415, 1.6394, 1.6372, 1.635, 1.6349, 1.6289, 1.6256, 1.6256, 1.6247, 1.6215, 1.6214, 1.6213, 1.617, 1.6165, 1.6115, 1.6048, 1.6047, 1.5971, 1.5971, 1.5968, 1.5966, 1.5873, 1.5871, 1.5871, 1.5596, 1.4934, 1.5423, 1.368, 1.2091, 1.3919, 1.254, 1.2679, 1.1779, 1.1006, 1.3846, 1.2746, 1.1811, 0.3472, 0.8924, 1.0084, 0.8001, 1.2941, 0.9681, 1.2718, 0.9946, 0.1831, 0.3206, 0.2556, -0.0647, 0.1872, -0.8451]}, \"token.table\": {\"Topic\": [4, 2, 2, 3, 1, 4, 3, 2, 1, 3, 5, 1, 5, 3, 4, 2, 3, 4, 5, 2, 3, 4, 5, 2, 3, 5, 4, 4, 1, 2, 3, 4, 5, 2, 3, 5, 3, 1, 2, 1, 1, 3, 4, 4, 5, 1, 2, 3, 1, 5, 2, 1, 4, 1, 5, 2, 3, 4, 2, 3, 4, 5, 3, 3, 2, 3, 3, 5, 5, 1, 2, 3, 1, 4, 4, 5, 5, 1, 5, 5, 3, 4, 3, 3, 3, 5, 1, 2, 3, 2, 4, 5, 3, 1, 2, 5, 4, 5, 1, 2, 3, 5, 1, 2, 3, 1, 4, 2, 3, 3, 4, 2, 2, 4, 2, 3, 1, 2, 5, 3, 5, 4, 2, 3, 4, 5, 5, 2, 1, 4, 2, 2, 4, 4, 3, 1, 2, 3, 5, 5, 3, 4, 1, 2, 3, 4, 5, 1, 2, 3, 4, 5, 1, 2, 3, 5, 1, 5, 1, 1, 2, 4, 1, 3, 5, 2, 3, 1, 2, 3, 4, 2, 4, 5, 1, 2, 1, 4, 5, 4, 4, 4, 2, 4, 5, 1, 3, 1, 3, 5, 2, 3, 1, 2, 3, 1, 2, 4, 5, 2, 4, 2, 5, 1, 2, 2, 4, 4, 1, 1, 1, 2, 3, 5, 2, 3, 4, 4, 3, 4, 5, 5, 1, 3, 5, 2, 5, 2, 4, 5, 1, 4, 5, 4, 1, 3, 4, 1, 3, 4, 5, 2, 4, 2, 4, 3, 2, 1, 2, 2, 3, 1, 2, 2, 1, 2, 4, 1, 5, 1, 4, 1, 3, 4, 5, 4, 2, 2, 1, 4, 5, 4, 2, 3, 5, 1, 5, 1, 2, 3, 2, 4, 1, 2, 3, 4, 1, 2, 2, 3, 5, 2, 3, 3, 2, 3, 4, 1, 4, 5, 1, 3, 3, 2, 5, 2, 3, 4, 4, 1, 2, 3, 4, 5, 2, 1, 5, 1, 1, 1, 4, 5, 4, 1, 5, 4, 2, 1, 3, 2, 1, 4, 5, 5, 1, 3, 1, 4, 1, 4, 1, 2, 3, 5, 4, 4, 1, 5, 1, 2, 5, 1, 3, 4, 5, 3, 4, 3, 2, 1, 2, 3, 5, 3, 1, 4, 5, 1, 2, 3, 5, 2, 4, 5, 3, 4, 5, 1, 3, 3, 5, 2, 4, 5, 1, 5, 1, 2, 5, 5, 4, 1, 2, 3, 5, 3, 1, 2, 5, 2, 5, 1, 2, 3, 4, 3, 1, 2, 3, 5, 3, 2, 3, 1, 2, 3, 5, 1, 4, 5, 4, 1, 2, 3, 4, 5, 1, 4, 1, 2, 3, 3, 1, 3, 5], \"Freq\": [0.9777142795841712, 0.8986118998435118, 0.8986123204302211, 0.9813159787413693, 0.7983931681116435, 0.19959829202791088, 0.9328487382264008, 0.9867337514295094, 0.24585175393856165, 0.6453608540887243, 0.09219440772696062, 0.9444807274776192, 0.958566244589113, 0.8129271864415538, 0.154843273607915, 0.14628541208608725, 0.5266274835099141, 0.1170283296688698, 0.20479957692052214, 0.21299334775619855, 0.10649667387809927, 0.669407664376624, 0.9587342409423044, 0.3525426621998625, 0.39954835049317755, 0.23502844146657503, 0.925587141426242, 0.9023300073621652, 0.050359825420555455, 0.2746899568393934, 0.40745676931176683, 0.18770480384025215, 0.0778288211044948, 0.9414328274157857, 0.2140237099060459, 0.7276806136805561, 0.9709225610555517, 0.9572490932828374, 0.9891751207238537, 0.9718921555111807, 0.9826582848247103, 0.21864097362560872, 0.7652434076896305, 0.7730002898689917, 0.17177784219310926, 0.6296320692959742, 0.22832811304139725, 0.13146164084201659, 0.9572100258184226, 0.9735839672786588, 0.9866981320380271, 0.9967958432077424, 0.8750720720785012, 0.9881577484985052, 0.9217279057891054, 0.570839381267519, 0.10484804962056471, 0.326193932152868, 0.610790997917057, 0.09048755524697143, 0.13573133287045713, 0.15835322168219998, 0.9745503118331461, 0.9594988642218171, 0.8096688946738005, 0.1619337789347601, 0.9755554811149745, 0.026850150856375446, 0.9763244506245068, 0.08989675913823182, 0.344604243363222, 0.5543633480190963, 0.9787840224733982, 0.9357734263092747, 0.2321501806685561, 0.735142238783761, 0.9587176983151848, 0.8547062897067221, 0.11396083862756295, 0.9415239275652659, 0.1658926695659397, 0.7879901804382137, 0.9423877680789571, 0.9933882691793954, 0.8723801516254133, 0.9587365022170046, 0.7558268482562317, 0.15746392672004828, 0.07873196336002414, 0.6757229878214495, 0.15258261015323052, 0.17438012588940632, 0.8996255318943699, 0.8914281668566274, 0.09383454387964499, 0.9699801739129977, 0.9928170174258419, 0.9319597009472615, 0.43222343262157464, 0.09905120330911085, 0.28814895508104976, 0.1710884420793733, 0.27233716098772476, 0.16340229659263486, 0.5628301327079646, 0.9173900172554134, 0.0398865224893658, 0.9217007934653993, 0.8996548116722061, 0.1562099832450139, 0.8279129111985736, 0.9735338403919365, 0.19237221895282774, 0.769488875811311, 0.8986235021236233, 0.9468735137694448, 0.9400402610017132, 0.12838414063474599, 0.8130995573533912, 0.932874257404621, 0.9736031391030451, 0.9358303323722443, 0.2276734477945986, 0.2276734477945986, 0.12142583882378592, 0.4098122060302775, 0.9218223552696465, 0.8986169458570152, 0.8551514060069779, 0.14965149605122113, 0.9318804408963427, 0.9751478632166455, 0.9719788405477732, 0.8751330146783244, 0.9328652967640265, 0.9815028521562056, 0.5874153029681564, 0.16447628483108379, 0.23496612118726257, 0.958635222825915, 0.7876331689685081, 0.20628487758699024, 0.930503728116904, 0.11001813087450976, 0.08801450469960781, 0.17602900939921562, 0.6271033459847056, 0.1625597481879181, 0.12191981114093857, 0.5283191816107339, 0.08127987409395905, 0.10159984261744881, 0.020659314561144247, 0.18593383105029823, 0.08263725824457699, 0.7230760096400487, 0.3293325692211137, 0.6586651384422274, 0.9758469955012848, 0.2350096977773533, 0.10444875456771258, 0.6528047160482037, 0.9203066693479041, 0.07989822766066344, 0.8788805042672979, 0.9413863759266401, 0.9226516075999553, 0.47415858080693807, 0.17122393195806096, 0.11853964520173452, 0.23707929040346903, 0.4132658525608935, 0.06198987788413402, 0.5165823157011168, 0.9790085948467793, 0.9661987569626633, 0.06313514824981362, 0.27358564241585903, 0.6523965319147407, 0.9776944148059616, 0.902321519357021, 0.9627116004199028, 0.9216605647184177, 0.9846023659875017, 0.8986924727307976, 0.21793796714025415, 0.7627828849908895, 0.9571467928017354, 0.9423635731800558, 0.9586826575482434, 0.898692146105758, 0.9709428817332286, 0.40396517616258626, 0.44724715932286335, 0.14427327720092367, 0.23580821981506148, 0.1286226653536699, 0.5144906614146796, 0.1286226653536699, 0.8122371967848918, 0.15471184700664606, 0.973486347481103, 0.9585909977775962, 0.3421025229441239, 0.6481942539993927, 0.9734113769776555, 0.9499979990992489, 0.9885098641244207, 0.9808748371128919, 0.9570561769884623, 0.13023412734248627, 0.625123811243934, 0.23442142921647527, 0.9320742382388169, 0.047997426908314024, 0.8159562574413385, 0.14399228072494208, 0.9256155882964482, 0.09003399043213998, 0.3901472918726066, 0.5101926124487932, 0.9415285026590494, 0.28185755134002516, 0.21139316350501886, 0.493250714845044, 0.8512778900058502, 0.12611524296382967, 0.9698714690728536, 0.9500147284327518, 0.9320791278343722, 0.5164258042028962, 0.26308484365053203, 0.2241093112578606, 0.9024803698390983, 0.08794279620848507, 0.2051998578197985, 0.6742281042650522, 0.582840313428263, 0.2752301480077909, 0.14571007835706576, 0.9415177478220476, 0.3656690946168624, 0.6268613050574784, 0.24043988546371847, 0.7480351992204575, 0.9329463740704884, 0.9458674495060297, 0.8674385151601752, 0.11964669174623106, 0.9734137921538448, 0.9661580110550797, 0.8973752780425305, 0.9585236889530039, 0.9802719699325656, 0.37056492096445576, 0.46938223322164396, 0.1482259683857823, 0.7347110589342603, 0.2618772091250829, 0.2628394324291515, 0.7321955617669219, 0.17994018373902668, 0.4798404899707378, 0.21992689123658815, 0.13995347624146517, 0.9777717410713958, 0.9734910634545266, 0.9866206206397049, 0.9400526071914701, 0.08266894017544206, 0.8680238718421416, 0.9846142204992289, 0.22478799461634283, 0.5494817646177269, 0.1998115507700825, 0.2890902376990083, 0.6607776861691619, 0.26051638588088694, 0.13025819294044347, 0.59918768752604, 0.3640797327779515, 0.6280375390419664, 0.11910529882835981, 0.5002422550791112, 0.20644918463582368, 0.16674741835970375, 0.7976981405513314, 0.18992812870269796, 0.11984381480763492, 0.21571886665374287, 0.6711253629227556, 0.19985424118541675, 0.799416964741667, 0.9772733071423263, 0.6969490578795794, 0.22302369852146542, 0.055755924630366355, 0.19519630059086843, 0.23702407928891164, 0.5577037159739098, 0.8213064596304473, 0.16426129192608946, 0.9709581991068513, 0.9414015057602175, 0.9662758165594028, 0.18488647575729641, 0.15407206313108032, 0.6162882525243213, 0.9202146741216468, 0.15474424889635396, 0.38686062224088485, 0.0870436400041991, 0.2611309200125973, 0.11605818667226546, 0.9698877331936006, 0.940018322913879, 0.9892851146301375, 0.9852430942335056, 0.9699074348672895, 0.221908927246348, 0.0887635708985392, 0.665726781739044, 0.9023259020359378, 0.9400543421019024, 0.9804366658658908, 0.9202202950780517, 0.9585431182569094, 0.9204096761953897, 0.8723762511676357, 0.9414175333683173, 0.20921122508377016, 0.32079054512844757, 0.46026469518429436, 0.9319373609479839, 0.31792837245769934, 0.6603127735659909, 0.9304971207551367, 0.9776782775915258, 0.12026216072507315, 0.8658875572205267, 0.4756999054554137, 0.31166545529837447, 0.21324478520415097, 0.9459987605684542, 0.8750523325923405, 0.9828105032975493, 0.9662484746087251, 0.9859628932716864, 0.6814988234291331, 0.1329753801812943, 0.18284114774927965, 0.5132837292791493, 0.1710945764263831, 0.06110520586656539, 0.25664186463957467, 0.9672295567782724, 0.9022927745725544, 0.8996225340271785, 0.986696200463008, 0.15624916715732312, 0.17361018573035902, 0.052083055719107714, 0.6076356500562566, 0.8723531648335741, 0.16769873114341763, 0.7546442901453794, 0.055899577047805876, 0.4691014867670456, 0.09875820774043065, 0.1975164154808613, 0.22220596741596896, 0.6627392425933947, 0.22091308086446487, 0.09467703465619923, 0.2447355860494512, 0.55621724102148, 0.2002382067677328, 0.6767023598663753, 0.3123241660921732, 0.959523518051906, 0.9804820221275582, 0.6458343129249934, 0.24603211920952128, 0.12301605960476064, 0.9636226143557011, 0.9586021963477238, 0.9203584466420017, 0.868607159159561, 0.0898559130165063, 0.9320463392228628, 0.962687095953424, 0.21475906791674745, 0.19215285024130035, 0.3503963739694301, 0.23736528559219455, 0.9468748836828627, 0.3706205143817829, 0.6272039474153249, 0.9586044386743426, 0.8519745491502163, 0.1331210233047213, 0.38588848674313253, 0.23810140671384775, 0.15599747336424508, 0.22168062004392722, 0.9329589122341501, 0.2395901200539598, 0.44495308010021106, 0.25670370005781407, 0.03422716000770854, 0.9813890852370132, 0.2158382972627911, 0.7674250569343684, 0.057079715049930195, 0.24734543188303085, 0.5137174354493718, 0.17123914514979058, 0.6612269756049862, 0.10722599604405181, 0.23232299142877894, 0.9202010150063397, 0.1356062053943451, 0.281643657357486, 0.1356062053943451, 0.29207490392628177, 0.14603745196314089, 0.8973748472267237, 0.9933136175227392, 0.16093130878502007, 0.12208582045760143, 0.715866856319572, 0.9595014330976943, 0.19967748242552258, 0.19967748242552258, 0.5990324472765677], \"Term\": [\".....\", \"12/12/12\", \"2/22/2021\", \"75-year\", \"abolish\", \"abolish\", \"accuse\", \"activity\", \"actually\", \"actually\", \"actually\", \"adult\", \"alive\", \"allow\", \"allow\", \"always\", \"always\", \"always\", \"always\", \"another\", \"another\", \"another\", \"anybody\", \"anyone\", \"anyone\", \"anyone\", \"apprehend\", \"argument\", \"arrest\", \"arrest\", \"arrest\", \"arrest\", \"arrest\", \"arrive\", \"asking\", \"asking\", \"assault\", \"assume\", \"attack\", \"basis\", \"beating\", \"believe\", \"believe\", \"better\", \"better\", \"black\", \"black\", \"black\", \"bodycam\", \"break\", \"brutal\", \"brutality\", \"buddy\", \"bullet\", \"bypass\", \"call\", \"call\", \"call\", \"calling\", \"calling\", \"calling\", \"calling\", \"campus\", \"capital\", \"catch\", \"catch\", \"charge\", \"charge\", \"check\", \"chief\", \"chief\", \"chief\", \"choke\", \"circle\", \"close\", \"close\", \"commissioner\", \"commit\", \"commit\", \"contact\", \"control\", \"control\", \"corrupt\", \"could\", \"courthouse\", \"covering\", \"crime\", \"crime\", \"crime\", \"criminal\", \"criminal\", \"criminal\", \"cross\", \"crowd\", \"crowd\", \"current\", \"custody\", \"database\", \"death\", \"death\", \"death\", \"death\", \"defund\", \"defund\", \"defund\", \"defunding\", \"defunding\", \"delay\", \"demand\", \"department\", \"department\", \"deputy\", \"detain\", \"detain\", \"device\", \"digital\", \"direct\", \"driver\", \"driver\", \"driving\", \"drug\", \"escort\", \"every\", \"every\", \"every\", \"every\", \"experience\", \"explode\", \"family\", \"family\", \"father\", \"fault\", \"female\", \"fighting\", \"file\", \"find\", \"fire\", \"fire\", \"fire\", \"firearm\", \"first\", \"first\", \"flag\", \"force\", \"force\", \"force\", \"force\", \"former\", \"former\", \"former\", \"former\", \"former\", \"found\", \"found\", \"found\", \"found\", \"friend\", \"friend\", \"frisk\", \"fucking\", \"fucking\", \"fucking\", \"fully\", \"funding\", \"funding\", \"gender\", \"general\", \"going\", \"going\", \"going\", \"going\", \"government\", \"government\", \"government\", \"grammar\", \"guess\", \"health\", \"health\", \"health\", \"helicopter\", \"helping\", \"horny\", \"horrifically\", \"hours\", \"inaction\", \"independent\", \"independent\", \"inject\", \"innovation\", \"instant\", \"insurrection\", \"investigating\", \"investigation\", \"investigation\", \"investigation\", \"involve\", \"involve\", \"involve\", \"involve\", \"journalist\", \"journalist\", \"judge\", \"kidnapping\", \"kill\", \"kill\", \"killing\", \"kneel\", \"least\", \"legal\", \"letter\", \"look\", \"look\", \"look\", \"lying\", \"mayor\", \"mayor\", \"mayor\", \"means\", \"mental\", \"mental\", \"mental\", \"message\", \"military\", \"military\", \"military\", \"miss\", \"miss\", \"motel\", \"movie\", \"municipal\", \"murder\", \"murder\", \"murder\", \"nearly\", \"need\", \"need\", \"need\", \"never\", \"never\", \"never\", \"nigga\", \"night\", \"night\", \"nothing\", \"nothing\", \"offend\", \"online\", \"order\", \"order\", \"overall\", \"paramedic\", \"parking\", \"participate\", \"party\", \"peaceful\", \"peaceful\", \"peaceful\", \"people\", \"people\", \"pepper\", \"pepper\", \"person\", \"person\", \"person\", \"person\", \"phone\", \"player\", \"please\", \"portlandprotest\", \"power\", \"power\", \"prison\", \"probe\", \"probe\", \"probe\", \"problem\", \"problem\", \"protect\", \"protect\", \"protect\", \"protest\", \"protest\", \"protester\", \"protester\", \"protester\", \"protester\", \"protestors\", \"protestors\", \"public\", \"public\", \"public\", \"pull\", \"pull\", \"push\", \"racist\", \"racist\", \"racist\", \"really\", \"really\", \"really\", \"reason\", \"reason\", \"receive\", \"recount\", \"reform\", \"remember\", \"remember\", \"remember\", \"remove\", \"report\", \"report\", \"report\", \"report\", \"report\", \"rescue\", \"restrain\", \"right\", \"rioter\", \"rubber\", \"running\", \"running\", \"running\", \"save\", \"seeing\", \"seize\", \"serious\", \"servant\", \"settlement\", \"shame\", \"sheriff\", \"shooting\", \"shooting\", \"shooting\", \"shootout\", \"show\", \"show\", \"showing\", \"sidewalk\", \"social\", \"social\", \"someone\", \"someone\", \"someone\", \"speak\", \"spot\", \"spray\", \"stand\", \"state\", \"station\", \"station\", \"station\", \"still\", \"still\", \"still\", \"still\", \"stop\", \"surly\", \"surprise\", \"surround\", \"suspect\", \"suspect\", \"suspect\", \"suspect\", \"talk\", \"thing\", \"thing\", \"thing\", \"think\", \"think\", \"think\", \"think\", \"though\", \"though\", \"though\", \"thought\", \"thought\", \"thought\", \"threaten\", \"threaten\", \"three\", \"together\", \"tonight\", \"tonight\", \"tonight\", \"towards\", \"track\", \"treat\", \"treatment\", \"treatment\", \"trooper\", \"truck\", \"try\", \"try\", \"try\", \"try\", \"tryna\", \"unarm\", \"unarm\", \"uniform\", \"victim\", \"victim\", \"video\", \"video\", \"video\", \"video\", \"viral\", \"walking\", \"walking\", \"walking\", \"walking\", \"wanna\", \"want\", \"want\", \"watch\", \"watch\", \"watch\", \"watch\", \"white\", \"white\", \"white\", \"witness\", \"woman\", \"woman\", \"woman\", \"woman\", \"woman\", \"work\", \"worker\", \"would\", \"would\", \"would\", \"wrongdoing\", \"years\", \"years\", \"years\"]}, \"R\": 30, \"lambda.step\": 0.01, \"plot.opts\": {\"xlab\": \"PC1\", \"ylab\": \"PC2\"}, \"topic.order\": [5, 2, 1, 3, 4]};\n\nfunction LDAvis_load_lib(url, callback){\n  var s = document.createElement('script');\n  s.src = url;\n  s.async = true;\n  s.onreadystatechange = s.onload = callback;\n  s.onerror = function(){console.warn(\"failed to load library \" + url);};\n  document.getElementsByTagName(\"head\")[0].appendChild(s);\n}\n\nif(typeof(LDAvis) !== \"undefined\"){\n   // already loaded: just create the visualization\n   !function(LDAvis){\n       new LDAvis(\"#\" + \"ldavis_el1309621657231163603813903689\", ldavis_el1309621657231163603813903689_data);\n   }(LDAvis);\n}else if(typeof define === \"function\" && define.amd){\n   // require.js is available: use it to load d3/LDAvis\n   require.config({paths: {d3: \"https://cdnjs.cloudflare.com/ajax/libs/d3/3.5.5/d3.min\"}});\n   require([\"d3\"], function(d3){\n      window.d3 = d3;\n      LDAvis_load_lib(\"https://cdn.rawgit.com/bmabey/pyLDAvis/files/ldavis.v1.0.0.js\", function(){\n        new LDAvis(\"#\" + \"ldavis_el1309621657231163603813903689\", ldavis_el1309621657231163603813903689_data);\n      });\n    });\n}else{\n    // require.js not available: dynamically load d3 & LDAvis\n    LDAvis_load_lib(\"https://cdnjs.cloudflare.com/ajax/libs/d3/3.5.5/d3.min.js\", function(){\n         LDAvis_load_lib(\"https://cdn.rawgit.com/bmabey/pyLDAvis/files/ldavis.v1.0.0.js\", function(){\n                 new LDAvis(\"#\" + \"ldavis_el1309621657231163603813903689\", ldavis_el1309621657231163603813903689_data);\n            })\n         });\n}\n</script>"
     },
     "metadata": {},
     "execution_count": 27
    }
   ],
   "source": [
    "pyLDAvis.gensim.prepare(lda, corpus, id2word)"
   ]
  }
 ],
 "metadata": {
  "kernelspec": {
   "name": "python3",
   "display_name": "Python 3.7.9 64-bit ('Portfolio-Tracker': pipenv)",
   "metadata": {
    "interpreter": {
     "hash": "0600588c3b5f4418cbe7b5ebc6825b479f3bc010269d8b60d75058cdd010adfe"
    }
   }
  },
  "language_info": {
   "codemirror_mode": {
    "name": "ipython",
    "version": 3
   },
   "file_extension": ".py",
   "mimetype": "text/x-python",
   "name": "python",
   "nbconvert_exporter": "python",
   "pygments_lexer": "ipython3",
   "version": "3.7.9-final"
  }
 },
 "nbformat": 4,
 "nbformat_minor": 4
}