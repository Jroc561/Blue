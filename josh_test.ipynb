{
 "cells": [
  {
   "cell_type": "code",
   "execution_count": 22,
   "metadata": {},
   "outputs": [],
   "source": [
    "# insert your credentials here\n",
    "import pandas as pd\n",
    "import os\n",
    "from dotenv import load_dotenv\n",
    "import dataset\n",
    "import json\n",
    "import sys\n",
    "import tweepy\n",
    "from sqlalchemy.exc import ProgrammingError\n",
    "import pandas as pd"
   ]
  },
  {
   "cell_type": "code",
   "execution_count": 23,
   "metadata": {},
   "outputs": [],
   "source": [
    "load_dotenv()\n",
    "\n",
    "db = dataset.connect(os.getenv(\"DATABASE_URL\"))\n",
    "\n",
    "# Variables that contains the credentials to access Twitter API\n",
    "CONSUMER_KEY = os.getenv('CONSUMER_KEY')\n",
    "CONSUMER_SECRET = os.getenv('CONSUMER_SECRET')\n",
    "ACCESS_KEY = os.getenv('ACCESS_KEY')\n",
    "ACCESS_SECRET = os.getenv('ACCESS_SECRET')"
   ]
  },
  {
   "cell_type": "code",
   "execution_count": 24,
   "metadata": {},
   "outputs": [],
   "source": [
    "auth = tweepy.OAuthHandler(CONSUMER_KEY, CONSUMER_SECRET)\n",
    "auth.set_access_token(ACCESS_KEY, ACCESS_SECRET)\n",
    "\n",
    "# initialize Tweepy API\n",
    "api = tweepy.API(auth, wait_on_rate_limit=True,\n",
    "          wait_on_rate_limit_notify=True)"
   ]
  },
  {
   "cell_type": "code",
   "execution_count": 25,
   "metadata": {},
   "outputs": [],
   "source": [
    "class StreamListener(tweepy.StreamListener):\n",
    "    def __init__(self, output_file=sys.stdout):\n",
    "        super(StreamListener,self).__init__()\n",
    "        self.output_file = output_file\n",
    "        self.counter = 0\n",
    "\n",
    "    def on_status(self, status):\n",
    "        self.counter = self.counter + 1\n",
    "        conditions = (not 'RT @' in status.text)\n",
    "        if conditions:\n",
    "            description = status.user.description\n",
    "            loc = status.user.location\n",
    "            text = status.text\n",
    "            coords = status.coordinates\n",
    "            geo = status.geo\n",
    "            name = status.user.screen_name\n",
    "            user_created = status.user.created_at\n",
    "            id_str = status.id_str\n",
    "            created = status.created_at\n",
    "            source = status.user.url\n",
    "            language = status.lang\n",
    "\n",
    "            if geo is not None:\n",
    "                geo = json.dumps(geo)\n",
    "\n",
    "            if coords is not None:\n",
    "                coords = json.dumps(coords)\n",
    "\n",
    "            table = db[\"tweets\"]\n",
    "            try:\n",
    "                table.insert(dict(\n",
    "                    user_description=description,\n",
    "                    user_location=loc,\n",
    "                    coordinates=coords,\n",
    "                    text=text,\n",
    "                    geo=geo,\n",
    "                    user_name=name,\n",
    "                    user_created=user_created,\n",
    "                    id_str=id_str,\n",
    "                    created=created,\n",
    "                    source = source,\n",
    "                    language = language,\n",
    "                    ))\n",
    "            except ProgrammingError as err:\n",
    "                print(err)\n",
    "\n",
    "    def on_error(self, status_code):\n",
    "        print('Encountered error with status code:', status_code)\n",
    "        if status_code == 420:\n",
    "            #return False in on_data disconnects the stream\n",
    "            return False\n",
    "\n",
    "    # When a deleted tweet appears\n",
    "    def on_delete(self, status_id, user_id):\n",
    "        print(\"Delete notice\")\n",
    "        return\n",
    "\n",
    "    # When reach the rate limit\n",
    "    def on_limit(self, track):\n",
    "        print(\"Rate limited, continuing\")\n",
    "        # Continue mining tweets\n",
    "        return True"
   ]
  },
  {
   "cell_type": "code",
   "execution_count": null,
   "metadata": {},
   "outputs": [],
   "source": [
    "# create instance of the tweepy tweet stream listener\n",
    "stream_listener = StreamListener()\n",
    "\n",
    "# create instance of the tweepy stream\n",
    "stream = tweepy.Stream(auth=auth, listener=stream_listener, tweet_mode=\"extended\")\n",
    "\n",
    "# words to search for\n",
    "track = [\"police\", \"cop\", \"officer\"]\n",
    "\n",
    "# search twitter for programming languages\n",
    "stream.filter(track=track, languages = ['en', 'und'])"
   ]
  },
  {
   "cell_type": "code",
   "execution_count": null,
   "metadata": {},
   "outputs": [],
   "source": [
    "df_raw = pd.DataFrame(db['tweets'])\n",
    "df = df_raw[[\"id_str\", \"text\"]]\n",
    "df.rename(columns={'id_str': 'ids'}, inplace=True)\n",
    "df"
   ]
  }
 ],
 "metadata": {
  "kernelspec": {
   "display_name": "Python 3.9.1 64-bit",
   "language": "python",
   "name": "python39164bit90a65254d6da4f0d8e4e5fb2b89137a4"
  },
  "language_info": {
   "codemirror_mode": {
    "name": "ipython",
    "version": 3
   },
   "file_extension": ".py",
   "mimetype": "text/x-python",
   "name": "python",
   "nbconvert_exporter": "python",
   "pygments_lexer": "ipython3",
   "version": "3.9.1"
  },
  "orig_nbformat": 2
 },
 "nbformat": 4,
 "nbformat_minor": 2
}